{
  "nbformat": 4,
  "nbformat_minor": 0,
  "metadata": {
    "colab": {
      "provenance": [],
      "collapsed_sections": [
        "52MVU2ktmyrA"
      ],
      "toc_visible": true
    },
    "kernelspec": {
      "name": "python3",
      "display_name": "Python 3"
    },
    "language_info": {
      "name": "python"
    }
  },
  "cells": [
    {
      "cell_type": "markdown",
      "source": [
        "This project has been created by [Hubert Kokoszka]() with minor assistance of Laura Jarosz.\n",
        "\n",
        "It is allowed to copy its parts when properly cited."
      ],
      "metadata": {
        "id": "4dxp5gWZ3IHK"
      }
    },
    {
      "cell_type": "markdown",
      "source": [
        "#1 Introduction to $F$-test of Two Variances"
      ],
      "metadata": {
        "id": "lUgwxx7wpIMY"
      }
    },
    {
      "cell_type": "markdown",
      "source": [
        "## $F$-Distribution"
      ],
      "metadata": {
        "id": "zlLnJAz0pSHh"
      }
    },
    {
      "cell_type": "markdown",
      "source": [
        "Broadly speaking $F$-tests is a group of statistical tests whose test statistics have an $F$-distribution (also called Fisher–Snedecor distribution after Ronald Fisher and George W. Snedecor).\n",
        "\n",
        "For a variable $X$ to have an $F$-distribution with the degrees of freedom $df_1$ and $df_2$, the following must be true:\n",
        "\n",
        "$$ X = \\frac{S_1/df_1}{S_2/df_2}$$\n",
        "\n",
        "where $S_1$ and $S_2$ have $\\chi^2$-distribution with respective degrees of freedom:\n",
        "\n",
        "$$S_1 \\sim χ_{df_1} ^2$$ $$S_2 \\sim χ_{df_2} ^2 $$"
      ],
      "metadata": {
        "id": "t9WE8efRpY9c"
      }
    },
    {
      "cell_type": "markdown",
      "source": [
        "##$F$-Test for Equality of Two Variances"
      ],
      "metadata": {
        "id": "349Pf1BTrL5K"
      }
    },
    {
      "cell_type": "markdown",
      "source": [
        "This statistical method is used to test the equivalence of variances of two samples of normally-distributed variables.\n",
        "\n",
        "In other words, when given two samples:\n",
        "\n",
        " $X_1 \\sim N(\\mu_1, σ_1) $ and $X_2 \\sim N(\\mu_2, σ_2)$,\n",
        "\n",
        " the test determines whether $\\sigma_1^2 = \\sigma_2^2$ is statistically correct."
      ],
      "metadata": {
        "id": "TQOjT1ZlrVB7"
      }
    },
    {
      "cell_type": "markdown",
      "source": [
        "###The Hypotheses"
      ],
      "metadata": {
        "id": "0XoT7EPqtJXd"
      }
    },
    {
      "cell_type": "markdown",
      "source": [
        "The null hypothesis:\n",
        "$$H_0 : \\sigma^2_1 = \\sigma^2_2$$\n",
        "\n",
        "One of the alternative hypotheses:\n",
        "$$H_1 : \\sigma^2_1 \\neq \\sigma^2_2$$\n",
        "\n",
        "$$H_1 : \\sigma^2_1 > \\sigma^2_2$$\n",
        "\n",
        "$$H_1 : \\sigma^2_1 < \\sigma^2_2$$"
      ],
      "metadata": {
        "id": "uarsTamn2cQP"
      }
    },
    {
      "cell_type": "markdown",
      "source": [
        "### Calculating the $F$ Test Statistic"
      ],
      "metadata": {
        "id": "tmso-vUmtR2p"
      }
    },
    {
      "cell_type": "markdown",
      "source": [
        "Let $X_1$ and $X_2$ be normally disttributed samples of sizes $n$ and $m$ respectively.\\\n",
        " The estimators for the means can be then described as follows:\n",
        "\n",
        "$$ \\overline{X}_1 = \\frac{1}{n} \\sum_{i=1}^{n}X_{1_i}  $$\n",
        "\n",
        "$$\\overline{X}_2 = \\frac{1}{m} \\sum_{i=1}^{m}X_{2_i}$$\n"
      ],
      "metadata": {
        "id": "Tc628SU9sYBB"
      }
    },
    {
      "cell_type": "markdown",
      "source": [
        "Given that, the variance estimators may be described as follows:\n",
        "\n",
        "$$ S_1^2 = \\frac{1}{n-1} \\sum_{i=1}^{n} \\Big( X_{1_i} - \\overline{X}_1 \\Big)^2 $$\n",
        "\n",
        "$$ S_2^2 = \\frac{1}{m-1} \\sum_{i=1}^{m} \\Big( X_{2_i} - \\overline{X}_2 \\Big)^2 $$"
      ],
      "metadata": {
        "id": "8xqSmFFHs3OX"
      }
    },
    {
      "cell_type": "markdown",
      "source": [
        "The $F$ statistic for the test is calculated with the following formula:\n",
        "\n",
        "$$ F_{1,1} = \\frac{S_1^2}{S_2^2} $$\n",
        "\n",
        "It is quite intuitive as it represents the ratio of th variance estimators."
      ],
      "metadata": {
        "id": "Q7TEfy4AtCWS"
      }
    },
    {
      "cell_type": "markdown",
      "source": [
        "### Justifying the $F$ Test Statistic Distribution"
      ],
      "metadata": {
        "id": "deOabXEzt-OP"
      }
    },
    {
      "cell_type": "markdown",
      "source": [
        "In order to illustrate the fact that the $F$ test statistic has an $F$-distribution:\n",
        "\n",
        " $$F_{1,2} \\sim F(n-1, m-1)$$\n",
        "\n",
        " We can derive it in the following way:"
      ],
      "metadata": {
        "id": "TkbVRjxMuXNw"
      }
    },
    {
      "cell_type": "markdown",
      "source": [
        "Let $SS_1$ and $SS_2$ be defined as sum of squares of the variables $X_1$ and $X_2$ respectively:\n",
        "\n",
        "$$ SS_1 =  \\sum_{i=1}^{n} \\Big( X_{1_i} - \\overline{X}_1 \\Big)^2 $$\n",
        "\n",
        "$$ SS_2 =  \\sum_{i=1}^{m} \\Big( X_{2_i} - \\overline{X}_2 \\Big)^2 $$\n",
        "\n",
        "\n"
      ],
      "metadata": {
        "id": "ypBHm_divGML"
      }
    },
    {
      "cell_type": "markdown",
      "source": [
        "It is known that $SS_1$ and $SS_2$ have $\\chi^2$-distributions:\n",
        "\n",
        "$$ SS_1 \\sim \\chi_{n-1}^2 $$\n",
        "$$ SS_2 \\sim \\chi_{m-1}^2 $$"
      ],
      "metadata": {
        "id": "k4TVoNaOvbzC"
      }
    },
    {
      "cell_type": "markdown",
      "source": [
        "The variance estimators defined with the use of sums of squares may be described as:\n",
        "\n",
        "$$ S_1^2 = SS_1/(n-1) $$\n",
        "\n",
        "$$ S_2^2 = SS_2/(m-1) $$\n"
      ],
      "metadata": {
        "id": "GfVzkMnbvod0"
      }
    },
    {
      "cell_type": "markdown",
      "source": [
        "Given the above the $F$ test statisctic may be rewritten as\n",
        "\n",
        "$$ F_{1,2} = \\frac{SS_1/(n-1)}{SS_2/(m-1)}$$\n",
        "\n",
        "which is consistent with the definition of a variable having $F$-distribution with degrees of freedom $n-1$ and $m-1$."
      ],
      "metadata": {
        "id": "C3PdNdpiv5hh"
      }
    },
    {
      "cell_type": "markdown",
      "source": [
        "### Assumptions"
      ],
      "metadata": {
        "id": "0DBF8hKDxApL"
      }
    },
    {
      "cell_type": "markdown",
      "source": [
        "It is noteworthy that the $F$ test for equality of two variances is a parametric test that requires the samples to be normally distributed. It is, in fact, exceptionally sensitive to non-normality. Due to that fact I will only generate a random samples with normal distribution.\n",
        "\n",
        "Further analysis could be conducted to illustrate how the properties change due to devitions form normal distribution."
      ],
      "metadata": {
        "id": "ogYyc1iKxD_H"
      }
    },
    {
      "cell_type": "markdown",
      "source": [
        "# 2 Set-up"
      ],
      "metadata": {
        "id": "kmbCuPDXzIXJ"
      }
    },
    {
      "cell_type": "markdown",
      "source": [
        "##Libraries"
      ],
      "metadata": {
        "id": "1GN1dTWC0Vhm"
      }
    },
    {
      "cell_type": "markdown",
      "source": [
        "The following libraries are used in this project:\n",
        "- `scipy.stats.norm` for generating random samples with normal distribution.\n",
        "- `scipy.stats.f` for calculating intervals, critical values and p-values obtained from the $F$-distribution.\n",
        "- `numpy` for the benefits of vectorization and some statistical functions.\n",
        "- `matplotlib.pyplot` and `seaborn` for results visualization\n",
        "- `time` for algorythm speed inspection\n",
        "- `pandas` for data storing and interacting with seaborn"
      ],
      "metadata": {
        "id": "2xJGTa7W2BKV"
      }
    },
    {
      "cell_type": "code",
      "source": [
        "from scipy.stats import norm\n",
        "from scipy.stats import f\n",
        "from scipy.stats import chisquare\n",
        "import numpy as np\n",
        "import matplotlib.pyplot as plt\n",
        "import seaborn as sns\n",
        "import time\n",
        "import pandas as pd"
      ],
      "metadata": {
        "id": "ONyKfAzp0QT7"
      },
      "execution_count": null,
      "outputs": []
    },
    {
      "cell_type": "markdown",
      "source": [
        "##Defining `TestOutput` Class and `f_test()` Function"
      ],
      "metadata": {
        "id": "VktOYsVf0W7d"
      }
    },
    {
      "cell_type": "markdown",
      "source": [
        "### `TestOutput` Class"
      ],
      "metadata": {
        "id": "qsBvbdCoFGNr"
      }
    },
    {
      "cell_type": "code",
      "source": [
        "class TestOutput(object):\n",
        "  \"\"\"An output of a test: statistic, p-value and confidence intervals\n",
        "\n",
        "  Given\\Attribute:\n",
        "  statistic - value of the test statistic\n",
        "  stat_name - name of the statistic (e.g. \"F\")\n",
        "  dist_min - minimum value of a distribution: e.g. normal=-Infinity, F=0\n",
        "  dist_max - maximum value of a distribution: e.g. +Inifinity\n",
        "  p - p-value of the test\n",
        "  conf_low - critical value that is the lower bound of confidence interval\n",
        "  conf_max - critival value that is the upper bound of confidence interval\n",
        "\n",
        "  \"\"\"\n",
        "\n",
        "  def __init__(self, stat: float, stat_name: str, dist_min, dist_max, p: float, conf_low=None, conf_up=None):\n",
        "    self.stat_name = stat_name\n",
        "    self.stat = stat\n",
        "    self.p = p\n",
        "\n",
        "    if conf_low and conf_up:\n",
        "      self.ci = f\"Confidence interval: ({conf_low} ; {conf_up})\"\n",
        "      self.rr = f\"Rejection region: ({dist_min}; {conf_low}) AND ({conf_up}; {dist_max})\"\n",
        "    elif conf_low:\n",
        "      self.ci = f\"Confidence interval: ({conf_low}; {dist_max})\"\n",
        "      self.rr = f\"Rejection region: ({dist_min}; {conf_low})\"\n",
        "    elif conf_up:\n",
        "      self.ci = f\"Confidence interval: ({dist_min}; {conf_up})\"\n",
        "      self.rr = f\"Rejection region: ({conf_up}; {dist_max})\"\n",
        "    else:\n",
        "      self.ci = \"Cannot compute Confidence interval.\\n Check if critical values are provided.\"\n",
        "      self.rr = \"Cannot compute Rejection Region.\\n Check if critical values are provided.\"\n",
        "\n",
        "\n",
        "  def __str__(self):\n",
        "    return self.p_value() + '\\n'+ self.statistic() + '\\n' + self.ci + '\\n' + self.rr + '\\n'\n",
        "\n",
        "  def statistic(self):\n",
        "    \"\"\"print the name and value of the test statistic\n",
        "    \"\"\"\n",
        "    return f\"{self.stat_name} statistic: {self.stat}\"\n",
        "\n",
        "  def p_value(self):\n",
        "    \"\"\"print the p-value of the test\n",
        "    \"\"\"\n",
        "    return f\"p-value: {self.p}\""
      ],
      "metadata": {
        "id": "LbgKBLByFMy0"
      },
      "execution_count": null,
      "outputs": []
    },
    {
      "cell_type": "markdown",
      "source": [
        "### `f_test()` Function"
      ],
      "metadata": {
        "id": "-4gHxndBFAVp"
      }
    },
    {
      "cell_type": "markdown",
      "source": [
        "I decided to create a custom `f_test()` function which returns a `TestOutput` object that I would use for further analysis."
      ],
      "metadata": {
        "id": "0oyhfeiN1_CL"
      }
    },
    {
      "cell_type": "code",
      "source": [
        "def f_test(sample1, sample2, alternative: str = \"two-sided\", alpha: float = 0.05, roundto: int = 6):\n",
        "  \"\"\"F-test for two sample variance equality. Returns a dict with three values.\n",
        "\n",
        "  Given:\n",
        "  sample1, sample2 - lists or pandas.Series objects of two samples\n",
        "  alternative - define the alternative hypothesis \"two-sided\", \"greater\", \"less\"\n",
        "  alpha - significance level of the test\n",
        "  roundto - number of decimals to use when rounding the number. Default is 6\n",
        "\n",
        "  Return: a TestOutput object\n",
        "  \"\"\"\n",
        "\n",
        "  x1 = np.array(sample1)\n",
        "  x2 = np.array(sample2)\n",
        "  var1 = np.var(x1, ddof=1)\n",
        "  var2 = np.var(x2, ddof=1)\n",
        "  df1 = len(x1) - 1\n",
        "  df2 = len(x2) - 1\n",
        "\n",
        "  dist_min = 0\n",
        "  dist_max = \"+Inifinity\"\n",
        "  conf_low = None\n",
        "  conf_up = None\n",
        "\n",
        "  F_stat = round(var1/var2, roundto)\n",
        "\n",
        "  if alternative == \"two-sided\":\n",
        "    conf_low = round(f.ppf(q=(alpha/2), dfn=df1, dfd=df2), roundto)\n",
        "    conf_up = round(f.ppf(q=(1-alpha/2), dfn=df1, dfd=df2), roundto)\n",
        "    p = 1 - f.cdf(x=F_stat, dfn=df1, dfd=df2)\n",
        "    p_value = round(2 * min(p, 1-p), roundto)\n",
        "\n",
        "  elif alternative == \"greater\":\n",
        "    conf_up = round(f.ppf(1-alpha, df1, df2), roundto)\n",
        "    p_value = round(1-f.cdf(x=F_stat, dfn=df1, dfd=df2), roundto)\n",
        "\n",
        "  elif alternative == \"less\":\n",
        "    conf_low = round(f.ppf(F_stat, df1, df2), roundto)\n",
        "    p_value = round(f.cdf(x=F_stat, dfn=df1, dfd=df2), roundto)\n",
        "\n",
        "  else:\n",
        "    print(\"Choose an alternative: two-sided, greater or less\")\n",
        "    return None\n",
        "\n",
        "  return TestOutput(F_stat,\"F\", dist_min=dist_min, dist_max=dist_max, p=p_value, conf_low=conf_low, conf_up=conf_up)"
      ],
      "metadata": {
        "id": "-5K0sBViOSCJ"
      },
      "execution_count": null,
      "outputs": []
    },
    {
      "cell_type": "markdown",
      "source": [
        "### Testing `f_test()` and `TestOutput`"
      ],
      "metadata": {
        "id": "vqRbmkv04OU0"
      }
    },
    {
      "cell_type": "code",
      "source": [
        "x = norm.rvs(size=30, loc=1, scale=1)\n",
        "y = norm.rvs(size=30, loc=10, scale=1)\n",
        "z = norm.rvs(size=30, loc=1, scale=2)"
      ],
      "metadata": {
        "id": "bBuf7oqa4SI7"
      },
      "execution_count": null,
      "outputs": []
    },
    {
      "cell_type": "markdown",
      "source": [
        "####Printing the Output of the Test"
      ],
      "metadata": {
        "id": "0CQIWRCARgw8"
      }
    },
    {
      "cell_type": "code",
      "source": [
        "print(f_test(x, y))"
      ],
      "metadata": {
        "colab": {
          "base_uri": "https://localhost:8080/"
        },
        "id": "YUMwUYokPnAl",
        "outputId": "859efe44-d34c-4ca9-bf21-d5a70b251737"
      },
      "execution_count": null,
      "outputs": [
        {
          "output_type": "stream",
          "name": "stdout",
          "text": [
            "p-value: 0.829567\n",
            "F statistic: 0.922519\n",
            "Confidence interval: (0.475965 ; 2.100996)\n",
            "Rejection region: (0; 0.475965) AND (2.100996; +Inifinity)\n",
            "\n"
          ]
        }
      ]
    },
    {
      "cell_type": "code",
      "source": [
        "print(f_test(x, y, roundto=2))"
      ],
      "metadata": {
        "colab": {
          "base_uri": "https://localhost:8080/"
        },
        "outputId": "eed55031-dc6a-4cd0-e962-2921dae64969",
        "id": "fBC6qu-GTFwl"
      },
      "execution_count": null,
      "outputs": [
        {
          "output_type": "stream",
          "name": "stdout",
          "text": [
            "p-value: 0.82\n",
            "F statistic: 0.92\n",
            "Confidence interval: (0.48 ; 2.1)\n",
            "Rejection region: (0; 0.48) AND (2.1; +Inifinity)\n",
            "\n"
          ]
        }
      ]
    },
    {
      "cell_type": "code",
      "source": [
        "print(f_test(x, z, alternative=\"less\"))"
      ],
      "metadata": {
        "colab": {
          "base_uri": "https://localhost:8080/"
        },
        "id": "nwcn6D7vCDjc",
        "outputId": "eba72ce4-96e9-4019-936b-00b9e3df8996"
      },
      "execution_count": null,
      "outputs": [
        {
          "output_type": "stream",
          "name": "stdout",
          "text": [
            "p-value: 5e-05\n",
            "F statistic: 0.218183\n",
            "Confidence interval: (0.746706; +Inifinity)\n",
            "Rejection region: (0; 0.746706)\n",
            "\n"
          ]
        }
      ]
    },
    {
      "cell_type": "code",
      "source": [
        "print(f_test(x, z, alternative=\"greater\"))"
      ],
      "metadata": {
        "colab": {
          "base_uri": "https://localhost:8080/"
        },
        "id": "6qDu7VZp4s6a",
        "outputId": "ab1e9032-3bf8-4f4f-b029-1408e125c2eb"
      },
      "execution_count": null,
      "outputs": [
        {
          "output_type": "stream",
          "name": "stdout",
          "text": [
            "p-value: 0.99995\n",
            "F statistic: 0.218183\n",
            "Confidence interval: (0; 1.860811)\n",
            "Rejection region: (1.860811; +Inifinity)\n",
            "\n"
          ]
        }
      ]
    },
    {
      "cell_type": "markdown",
      "source": [
        "####Extracting the $F$ Test Statistic"
      ],
      "metadata": {
        "id": "DSPaLyNLRa2K"
      }
    },
    {
      "cell_type": "code",
      "source": [
        "print(f_test(x, y).statistic())"
      ],
      "metadata": {
        "colab": {
          "base_uri": "https://localhost:8080/"
        },
        "id": "_QyyL62FQGuD",
        "outputId": "8a3425da-5eb9-4a8b-e970-ef67dba76cf8"
      },
      "execution_count": null,
      "outputs": [
        {
          "output_type": "stream",
          "name": "stdout",
          "text": [
            "F statistic: 0.922519\n"
          ]
        }
      ]
    },
    {
      "cell_type": "markdown",
      "source": [
        "####Extracting the p-value"
      ],
      "metadata": {
        "id": "YzFqaMjaR2hM"
      }
    },
    {
      "cell_type": "code",
      "source": [
        "print(f_test(x, y).p_value())"
      ],
      "metadata": {
        "colab": {
          "base_uri": "https://localhost:8080/"
        },
        "id": "AlszkhsXQLW2",
        "outputId": "1be84dda-2e57-438f-cbcc-2dc9e6085846"
      },
      "execution_count": null,
      "outputs": [
        {
          "output_type": "stream",
          "name": "stdout",
          "text": [
            "p-value: 0.829567\n"
          ]
        }
      ]
    },
    {
      "cell_type": "code",
      "source": [
        "f_test(x, y).p"
      ],
      "metadata": {
        "colab": {
          "base_uri": "https://localhost:8080/"
        },
        "id": "RQgypLkpRRli",
        "outputId": "a89fc248-abd8-43ae-af78-f48ce5336079"
      },
      "execution_count": null,
      "outputs": [
        {
          "output_type": "execute_result",
          "data": {
            "text/plain": [
              "0.829567"
            ]
          },
          "metadata": {},
          "execution_count": 13
        }
      ]
    },
    {
      "cell_type": "markdown",
      "source": [
        "# 3 Type I Error"
      ],
      "metadata": {
        "id": "gDGSmiMq11ms"
      }
    },
    {
      "cell_type": "markdown",
      "source": [
        "##3.1 What is a Type I Error?"
      ],
      "metadata": {
        "id": "VFR5N0f8bK7-"
      }
    },
    {
      "cell_type": "markdown",
      "source": [
        "A type I error is made when a true null hypothesis is mistakenly rejected. It is sometimes referred to as \"false positive\" conclusion.\n",
        "\n",
        "Type I error is quite easily controlled by setting an appriopriate significance level. The lower the significance level, the less likely it becomes for type I error to occur. Low significance levels, however, lower the chances of detecting smaller deviations from the null hypothesis as statistically significant, i.e. the power of the test decreases. The intertwined test power and type II error are considered in later parts of this project."
      ],
      "metadata": {
        "id": "wZRVvOG7cJBW"
      }
    },
    {
      "cell_type": "markdown",
      "source": [
        "## 3.2 Assessing the Probability of Making a Type I Error"
      ],
      "metadata": {
        "id": "sl_n7TMkfZzY"
      }
    },
    {
      "cell_type": "markdown",
      "source": [
        "To get an esimate of the probability of Type I Error of the $F$ test for equal variances, the following approach may be utilised:\n",
        "\n",
        "1. Randomly sample two normally distributed variables with equal standard deviations (i.e. equal variances).\n",
        "2. Carry out the F test and save the p-value, e.g. in a list.\n",
        "3. Repeat steps 1. and 2. $m$ times, where $m$ is a large number of simulations.\n",
        "4. Compare all saved p-values with the significance level (e.g. $\\alpha$ = 5%) and calculate the empirical probability ($\\hat{p}$) of the p-value being smaller\n",
        "than $\\alpha$\n",
        "\n",
        "$$\\hat{p}= \\frac{1}{m}\\sum_{j=1}^m I_j$$\n",
        "\n",
        "$$I_j=\\left\\{\n",
        "\\begin{array}{ccc}\n",
        "1&\\mbox{for}&p_j<\\alpha\\\\\n",
        "0&\\mbox{for}&p_j\\geq\\alpha\\\\\n",
        "\\end{array}\n",
        "\\right.$$\n",
        "\n",
        "5. Finally the standard error of the empirical type I error may be calulated according to the formula:\n",
        "\n",
        "$$ SE(\\hat{p}) = \\sqrt{\\frac{\\hat{p}*(1-\\hat{p})}{m}} $$\n"
      ],
      "metadata": {
        "id": "vTRvdWAIgLZK"
      }
    },
    {
      "cell_type": "markdown",
      "source": [
        "## 3.3 `get_type_I_error()` function"
      ],
      "metadata": {
        "id": "chL3a2I6Oo-i"
      }
    },
    {
      "cell_type": "markdown",
      "source": [
        "In order to carry out the Monte Carlo simulation, I created a custom function that applies all the steps mentioned above. It's parameters allow it to test out different sample sizes, numbers of simulations, significance levels, sample means and standard deviations."
      ],
      "metadata": {
        "id": "DIZgjz8hkIn5"
      }
    },
    {
      "cell_type": "code",
      "execution_count": null,
      "metadata": {
        "id": "nB-k9khFy0D9"
      },
      "outputs": [],
      "source": [
        "def get_type_I_error(n:int=30, m:int=1000, alpha:float=0.05, mu1:float=0,\n",
        "                     mu2:float=0, var:float=1, roundto:int=6) -> tuple:\n",
        "  \"\"\"Get F test type II error\n",
        "\n",
        "  Given:\n",
        "  n - one sample size\n",
        "  m - number of simulations\n",
        "  alpha - significance level\n",
        "  mu1 - true mean of the first sample\n",
        "  mu2 - true mean of the second sample\n",
        "  var - variance, true for both samples\n",
        "  roundto - number of decimals numbers to round the returned values.\n",
        "\n",
        "  Return: A tuple with values:\n",
        "  [0] - empirical probability of type I error\n",
        "  [1] - standard error of type I error\n",
        "  \"\"\"\n",
        "  sd = np.sqrt(var)\n",
        "  p_values = np.empty(m)\n",
        "\n",
        "  for index in range(m):\n",
        "    X1 = norm.rvs(size=n, loc=mu1, scale=sd)\n",
        "    X2 = norm.rvs(size=n, loc=mu2, scale=sd)\n",
        "    ftest_output = f_test(X1, X2, alpha=alpha,\n",
        "                          alternative=\"two-sided\")\n",
        "    p_values[index] = ftest_output.p\n",
        "\n",
        "  p_hat = np.mean(p_values < alpha)\n",
        "  se_hat = round(np.sqrt(p_hat *(1-p_hat)/m), roundto)\n",
        "\n",
        "  return (round(p_hat, roundto), se_hat)"
      ]
    },
    {
      "cell_type": "markdown",
      "source": [
        "### 3.3.1 Testing out different numbers of simulations $m$"
      ],
      "metadata": {
        "id": "ui5geYC1mi6o"
      }
    },
    {
      "cell_type": "code",
      "source": [
        "different_m = [10, 100, 1000, 10_000, 100_000]\n",
        "\n",
        "testing_m_df = pd.DataFrame({\"m\" : [],\n",
        "                          \"p_hat\" : [],\n",
        "                          \"se_hat\" : [],\n",
        "                          \"duration[s]\" : []})\n",
        "\n",
        "for m in different_m:\n",
        "  start = time.time()\n",
        "  p_hat, se_hat = get_type_I_error(m=m)\n",
        "  end = time.time()\n",
        "  testing_m_df.loc[len(testing_m_df)] = {\"m\" : m,\n",
        "                                          \"p_hat\" : p_hat,\n",
        "                                          \"se_hat\" : se_hat,\n",
        "                                          \"duration[s]\" : end-start}"
      ],
      "metadata": {
        "id": "sRsktNnim8Xa"
      },
      "execution_count": null,
      "outputs": []
    },
    {
      "cell_type": "code",
      "source": [
        "testing_m_df"
      ],
      "metadata": {
        "colab": {
          "base_uri": "https://localhost:8080/",
          "height": 206
        },
        "id": "PwDvEeliz2y-",
        "outputId": "c88ce7a3-0ca7-43e9-89a4-fb826253dbbe"
      },
      "execution_count": null,
      "outputs": [
        {
          "output_type": "execute_result",
          "data": {
            "text/plain": [
              "        m    p_hat    se_hat  duration[s]\n",
              "0      10  0.10000  0.094868     0.017497\n",
              "1     100  0.03000  0.017059     0.078901\n",
              "2    1000  0.06100  0.007568     0.812387\n",
              "3   10000  0.05260  0.002232     8.117163\n",
              "4  100000  0.04963  0.000687   109.960486"
            ],
            "text/html": [
              "\n",
              "\n",
              "  <div id=\"df-5477b244-4645-4d96-b1ce-9791f8fa6e21\">\n",
              "    <div class=\"colab-df-container\">\n",
              "      <div>\n",
              "<style scoped>\n",
              "    .dataframe tbody tr th:only-of-type {\n",
              "        vertical-align: middle;\n",
              "    }\n",
              "\n",
              "    .dataframe tbody tr th {\n",
              "        vertical-align: top;\n",
              "    }\n",
              "\n",
              "    .dataframe thead th {\n",
              "        text-align: right;\n",
              "    }\n",
              "</style>\n",
              "<table border=\"1\" class=\"dataframe\">\n",
              "  <thead>\n",
              "    <tr style=\"text-align: right;\">\n",
              "      <th></th>\n",
              "      <th>m</th>\n",
              "      <th>p_hat</th>\n",
              "      <th>se_hat</th>\n",
              "      <th>duration[s]</th>\n",
              "    </tr>\n",
              "  </thead>\n",
              "  <tbody>\n",
              "    <tr>\n",
              "      <th>0</th>\n",
              "      <td>10</td>\n",
              "      <td>0.10000</td>\n",
              "      <td>0.094868</td>\n",
              "      <td>0.017497</td>\n",
              "    </tr>\n",
              "    <tr>\n",
              "      <th>1</th>\n",
              "      <td>100</td>\n",
              "      <td>0.03000</td>\n",
              "      <td>0.017059</td>\n",
              "      <td>0.078901</td>\n",
              "    </tr>\n",
              "    <tr>\n",
              "      <th>2</th>\n",
              "      <td>1000</td>\n",
              "      <td>0.06100</td>\n",
              "      <td>0.007568</td>\n",
              "      <td>0.812387</td>\n",
              "    </tr>\n",
              "    <tr>\n",
              "      <th>3</th>\n",
              "      <td>10000</td>\n",
              "      <td>0.05260</td>\n",
              "      <td>0.002232</td>\n",
              "      <td>8.117163</td>\n",
              "    </tr>\n",
              "    <tr>\n",
              "      <th>4</th>\n",
              "      <td>100000</td>\n",
              "      <td>0.04963</td>\n",
              "      <td>0.000687</td>\n",
              "      <td>109.960486</td>\n",
              "    </tr>\n",
              "  </tbody>\n",
              "</table>\n",
              "</div>\n",
              "      <button class=\"colab-df-convert\" onclick=\"convertToInteractive('df-5477b244-4645-4d96-b1ce-9791f8fa6e21')\"\n",
              "              title=\"Convert this dataframe to an interactive table.\"\n",
              "              style=\"display:none;\">\n",
              "\n",
              "  <svg xmlns=\"http://www.w3.org/2000/svg\" height=\"24px\"viewBox=\"0 0 24 24\"\n",
              "       width=\"24px\">\n",
              "    <path d=\"M0 0h24v24H0V0z\" fill=\"none\"/>\n",
              "    <path d=\"M18.56 5.44l.94 2.06.94-2.06 2.06-.94-2.06-.94-.94-2.06-.94 2.06-2.06.94zm-11 1L8.5 8.5l.94-2.06 2.06-.94-2.06-.94L8.5 2.5l-.94 2.06-2.06.94zm10 10l.94 2.06.94-2.06 2.06-.94-2.06-.94-.94-2.06-.94 2.06-2.06.94z\"/><path d=\"M17.41 7.96l-1.37-1.37c-.4-.4-.92-.59-1.43-.59-.52 0-1.04.2-1.43.59L10.3 9.45l-7.72 7.72c-.78.78-.78 2.05 0 2.83L4 21.41c.39.39.9.59 1.41.59.51 0 1.02-.2 1.41-.59l7.78-7.78 2.81-2.81c.8-.78.8-2.07 0-2.86zM5.41 20L4 18.59l7.72-7.72 1.47 1.35L5.41 20z\"/>\n",
              "  </svg>\n",
              "      </button>\n",
              "\n",
              "\n",
              "\n",
              "    <div id=\"df-7f0784f5-e6a6-4b08-938f-6cc55a21d6e4\">\n",
              "      <button class=\"colab-df-quickchart\" onclick=\"quickchart('df-7f0784f5-e6a6-4b08-938f-6cc55a21d6e4')\"\n",
              "              title=\"Suggest charts.\"\n",
              "              style=\"display:none;\">\n",
              "\n",
              "<svg xmlns=\"http://www.w3.org/2000/svg\" height=\"24px\"viewBox=\"0 0 24 24\"\n",
              "     width=\"24px\">\n",
              "    <g>\n",
              "        <path d=\"M19 3H5c-1.1 0-2 .9-2 2v14c0 1.1.9 2 2 2h14c1.1 0 2-.9 2-2V5c0-1.1-.9-2-2-2zM9 17H7v-7h2v7zm4 0h-2V7h2v10zm4 0h-2v-4h2v4z\"/>\n",
              "    </g>\n",
              "</svg>\n",
              "      </button>\n",
              "    </div>\n",
              "\n",
              "<style>\n",
              "  .colab-df-quickchart {\n",
              "    background-color: #E8F0FE;\n",
              "    border: none;\n",
              "    border-radius: 50%;\n",
              "    cursor: pointer;\n",
              "    display: none;\n",
              "    fill: #1967D2;\n",
              "    height: 32px;\n",
              "    padding: 0 0 0 0;\n",
              "    width: 32px;\n",
              "  }\n",
              "\n",
              "  .colab-df-quickchart:hover {\n",
              "    background-color: #E2EBFA;\n",
              "    box-shadow: 0px 1px 2px rgba(60, 64, 67, 0.3), 0px 1px 3px 1px rgba(60, 64, 67, 0.15);\n",
              "    fill: #174EA6;\n",
              "  }\n",
              "\n",
              "  [theme=dark] .colab-df-quickchart {\n",
              "    background-color: #3B4455;\n",
              "    fill: #D2E3FC;\n",
              "  }\n",
              "\n",
              "  [theme=dark] .colab-df-quickchart:hover {\n",
              "    background-color: #434B5C;\n",
              "    box-shadow: 0px 1px 3px 1px rgba(0, 0, 0, 0.15);\n",
              "    filter: drop-shadow(0px 1px 2px rgba(0, 0, 0, 0.3));\n",
              "    fill: #FFFFFF;\n",
              "  }\n",
              "</style>\n",
              "\n",
              "    <script>\n",
              "      async function quickchart(key) {\n",
              "        const containerElement = document.querySelector('#' + key);\n",
              "        const charts = await google.colab.kernel.invokeFunction(\n",
              "            'suggestCharts', [key], {});\n",
              "      }\n",
              "    </script>\n",
              "\n",
              "      <script>\n",
              "\n",
              "function displayQuickchartButton(domScope) {\n",
              "  let quickchartButtonEl =\n",
              "    domScope.querySelector('#df-7f0784f5-e6a6-4b08-938f-6cc55a21d6e4 button.colab-df-quickchart');\n",
              "  quickchartButtonEl.style.display =\n",
              "    google.colab.kernel.accessAllowed ? 'block' : 'none';\n",
              "}\n",
              "\n",
              "        displayQuickchartButton(document);\n",
              "      </script>\n",
              "      <style>\n",
              "    .colab-df-container {\n",
              "      display:flex;\n",
              "      flex-wrap:wrap;\n",
              "      gap: 12px;\n",
              "    }\n",
              "\n",
              "    .colab-df-convert {\n",
              "      background-color: #E8F0FE;\n",
              "      border: none;\n",
              "      border-radius: 50%;\n",
              "      cursor: pointer;\n",
              "      display: none;\n",
              "      fill: #1967D2;\n",
              "      height: 32px;\n",
              "      padding: 0 0 0 0;\n",
              "      width: 32px;\n",
              "    }\n",
              "\n",
              "    .colab-df-convert:hover {\n",
              "      background-color: #E2EBFA;\n",
              "      box-shadow: 0px 1px 2px rgba(60, 64, 67, 0.3), 0px 1px 3px 1px rgba(60, 64, 67, 0.15);\n",
              "      fill: #174EA6;\n",
              "    }\n",
              "\n",
              "    [theme=dark] .colab-df-convert {\n",
              "      background-color: #3B4455;\n",
              "      fill: #D2E3FC;\n",
              "    }\n",
              "\n",
              "    [theme=dark] .colab-df-convert:hover {\n",
              "      background-color: #434B5C;\n",
              "      box-shadow: 0px 1px 3px 1px rgba(0, 0, 0, 0.15);\n",
              "      filter: drop-shadow(0px 1px 2px rgba(0, 0, 0, 0.3));\n",
              "      fill: #FFFFFF;\n",
              "    }\n",
              "  </style>\n",
              "\n",
              "      <script>\n",
              "        const buttonEl =\n",
              "          document.querySelector('#df-5477b244-4645-4d96-b1ce-9791f8fa6e21 button.colab-df-convert');\n",
              "        buttonEl.style.display =\n",
              "          google.colab.kernel.accessAllowed ? 'block' : 'none';\n",
              "\n",
              "        async function convertToInteractive(key) {\n",
              "          const element = document.querySelector('#df-5477b244-4645-4d96-b1ce-9791f8fa6e21');\n",
              "          const dataTable =\n",
              "            await google.colab.kernel.invokeFunction('convertToInteractive',\n",
              "                                                     [key], {});\n",
              "          if (!dataTable) return;\n",
              "\n",
              "          const docLinkHtml = 'Like what you see? Visit the ' +\n",
              "            '<a target=\"_blank\" href=https://colab.research.google.com/notebooks/data_table.ipynb>data table notebook</a>'\n",
              "            + ' to learn more about interactive tables.';\n",
              "          element.innerHTML = '';\n",
              "          dataTable['output_type'] = 'display_data';\n",
              "          await google.colab.output.renderOutput(dataTable, element);\n",
              "          const docLink = document.createElement('div');\n",
              "          docLink.innerHTML = docLinkHtml;\n",
              "          element.appendChild(docLink);\n",
              "        }\n",
              "      </script>\n",
              "    </div>\n",
              "  </div>\n"
            ]
          },
          "metadata": {},
          "execution_count": 52
        }
      ]
    },
    {
      "cell_type": "code",
      "source": [
        "fig, axes = plt.subplots(1, 2, figsize=(12, 5))\n",
        "\n",
        "#type I empirical probability\n",
        "sns.barplot(data=testing_m_df,\n",
        "            x=\"m\",\n",
        "            y=\"p_hat\",\n",
        "            palette=\"Purples\",\n",
        "            ax=axes[0])\n",
        "axes[0].set_title(\"Empirical Type I Error Probability\")\n",
        "axes[0].set_ylabel('')\n",
        "axes[0].set_xlabel(\"Number of Simulations (m)\")\n",
        "\n",
        "x_coords = [p.get_x() + 0.5 * p.get_width() for p in axes[0].patches]\n",
        "y_coords = [p.get_height() for p in axes[0].patches]\n",
        "axes[0].errorbar(x=x_coords, y=y_coords, yerr=testing_m_df[\"se_hat\"], fmt=\"none\", c=\"k\")\n",
        "\n",
        "#duration\n",
        "sns.barplot(data=testing_m_df,\n",
        "            x=\"m\",\n",
        "            y=\"duration[s]\",\n",
        "            palette=\"Greens\",\n",
        "            ax=axes[1])\n",
        "axes[1].set_title(\"Calculations Duration [s]\")\n",
        "axes[1].set_ylabel('')\n",
        "axes[1].set_xlabel(\"Number of Simulations (m)\")\n",
        "\n",
        "plt.tight_layout()\n",
        "plt.show()\n"
      ],
      "metadata": {
        "colab": {
          "base_uri": "https://localhost:8080/",
          "height": 479
        },
        "id": "QpgOmusorXxS",
        "outputId": "9095ede4-9d8a-4fc0-9f5a-2d5416d4186d"
      },
      "execution_count": null,
      "outputs": [
        {
          "output_type": "display_data",
          "data": {
            "text/plain": [
              "<Figure size 1200x500 with 2 Axes>"
            ],
            "image/png": "[encoded data removed]"
          },
          "metadata": {}
        }
      ]
    },
    {
      "cell_type": "markdown",
      "source": [
        "It is known that a high number of simulations $m$ gives better estimations. Such is the case here as well. At 1000 simulations and more, the empirical type I error probability $\\hat{p}$ stays relatively consistent. Every time $m$ is multiplied by 10, the standard error of $\\hat{p}$ falls logarithmically. The opposite applies for the duration of the algorithm execution. I decided to always do 10 000 simuations for the sake of the convenience of it taking only about 8 seconds to complete when considering 30-sized samples."
      ],
      "metadata": {
        "id": "tS9p_7mXCT9y"
      }
    },
    {
      "cell_type": "markdown",
      "source": [
        "### 3.3.2 Is the empirical type I error of the F test for equal variances related to the sample sizes?"
      ],
      "metadata": {
        "id": "uxgs8JY5ECKT"
      }
    },
    {
      "cell_type": "code",
      "source": [
        "different_n = [5, 10, 30, 50, 100, 500, 1000]\n",
        "\n",
        "testing_n_df = pd.DataFrame({\"n\" : [],\n",
        "                          \"p_hat\" : [],\n",
        "                          \"se_hat\" : []})\n",
        "\n",
        "for n in different_n:\n",
        "  p_hat, se_hat = get_type_I_error(m=10_000, n=n)\n",
        "  testing_n_df.loc[len(testing_n_df)] = {\"n\" : n,\n",
        "                                          \"p_hat\" : p_hat,\n",
        "                                          \"se_hat\" : se_hat}"
      ],
      "metadata": {
        "id": "APDnQ5UmEdwd"
      },
      "execution_count": null,
      "outputs": []
    },
    {
      "cell_type": "code",
      "source": [
        "testing_n_df"
      ],
      "metadata": {
        "id": "V2Wk3JgtFMTt",
        "colab": {
          "base_uri": "https://localhost:8080/",
          "height": 269
        },
        "outputId": "5b732ee4-47c8-49ae-fd22-dd4e544b8a16"
      },
      "execution_count": null,
      "outputs": [
        {
          "output_type": "execute_result",
          "data": {
            "text/plain": [
              "      n   p_hat    se_hat\n",
              "0     5  0.0497  0.002173\n",
              "1    10  0.0470  0.002116\n",
              "2    30  0.0490  0.002159\n",
              "3    50  0.0511  0.002202\n",
              "4   100  0.0471  0.002119\n",
              "5   500  0.0542  0.002264\n",
              "6  1000  0.0494  0.002167"
            ],
            "text/html": [
              "\n",
              "\n",
              "  <div id=\"df-f74426ce-1341-4333-9bf3-132aeefcfed9\">\n",
              "    <div class=\"colab-df-container\">\n",
              "      <div>\n",
              "<style scoped>\n",
              "    .dataframe tbody tr th:only-of-type {\n",
              "        vertical-align: middle;\n",
              "    }\n",
              "\n",
              "    .dataframe tbody tr th {\n",
              "        vertical-align: top;\n",
              "    }\n",
              "\n",
              "    .dataframe thead th {\n",
              "        text-align: right;\n",
              "    }\n",
              "</style>\n",
              "<table border=\"1\" class=\"dataframe\">\n",
              "  <thead>\n",
              "    <tr style=\"text-align: right;\">\n",
              "      <th></th>\n",
              "      <th>n</th>\n",
              "      <th>p_hat</th>\n",
              "      <th>se_hat</th>\n",
              "    </tr>\n",
              "  </thead>\n",
              "  <tbody>\n",
              "    <tr>\n",
              "      <th>0</th>\n",
              "      <td>5</td>\n",
              "      <td>0.0497</td>\n",
              "      <td>0.002173</td>\n",
              "    </tr>\n",
              "    <tr>\n",
              "      <th>1</th>\n",
              "      <td>10</td>\n",
              "      <td>0.0470</td>\n",
              "      <td>0.002116</td>\n",
              "    </tr>\n",
              "    <tr>\n",
              "      <th>2</th>\n",
              "      <td>30</td>\n",
              "      <td>0.0490</td>\n",
              "      <td>0.002159</td>\n",
              "    </tr>\n",
              "    <tr>\n",
              "      <th>3</th>\n",
              "      <td>50</td>\n",
              "      <td>0.0511</td>\n",
              "      <td>0.002202</td>\n",
              "    </tr>\n",
              "    <tr>\n",
              "      <th>4</th>\n",
              "      <td>100</td>\n",
              "      <td>0.0471</td>\n",
              "      <td>0.002119</td>\n",
              "    </tr>\n",
              "    <tr>\n",
              "      <th>5</th>\n",
              "      <td>500</td>\n",
              "      <td>0.0542</td>\n",
              "      <td>0.002264</td>\n",
              "    </tr>\n",
              "    <tr>\n",
              "      <th>6</th>\n",
              "      <td>1000</td>\n",
              "      <td>0.0494</td>\n",
              "      <td>0.002167</td>\n",
              "    </tr>\n",
              "  </tbody>\n",
              "</table>\n",
              "</div>\n",
              "      <button class=\"colab-df-convert\" onclick=\"convertToInteractive('df-f74426ce-1341-4333-9bf3-132aeefcfed9')\"\n",
              "              title=\"Convert this dataframe to an interactive table.\"\n",
              "              style=\"display:none;\">\n",
              "\n",
              "  <svg xmlns=\"http://www.w3.org/2000/svg\" height=\"24px\"viewBox=\"0 0 24 24\"\n",
              "       width=\"24px\">\n",
              "    <path d=\"M0 0h24v24H0V0z\" fill=\"none\"/>\n",
              "    <path d=\"M18.56 5.44l.94 2.06.94-2.06 2.06-.94-2.06-.94-.94-2.06-.94 2.06-2.06.94zm-11 1L8.5 8.5l.94-2.06 2.06-.94-2.06-.94L8.5 2.5l-.94 2.06-2.06.94zm10 10l.94 2.06.94-2.06 2.06-.94-2.06-.94-.94-2.06-.94 2.06-2.06.94z\"/><path d=\"M17.41 7.96l-1.37-1.37c-.4-.4-.92-.59-1.43-.59-.52 0-1.04.2-1.43.59L10.3 9.45l-7.72 7.72c-.78.78-.78 2.05 0 2.83L4 21.41c.39.39.9.59 1.41.59.51 0 1.02-.2 1.41-.59l7.78-7.78 2.81-2.81c.8-.78.8-2.07 0-2.86zM5.41 20L4 18.59l7.72-7.72 1.47 1.35L5.41 20z\"/>\n",
              "  </svg>\n",
              "      </button>\n",
              "\n",
              "\n",
              "\n",
              "    <div id=\"df-608d33d1-93cf-4e8d-a07a-b25866532fc8\">\n",
              "      <button class=\"colab-df-quickchart\" onclick=\"quickchart('df-608d33d1-93cf-4e8d-a07a-b25866532fc8')\"\n",
              "              title=\"Suggest charts.\"\n",
              "              style=\"display:none;\">\n",
              "\n",
              "<svg xmlns=\"http://www.w3.org/2000/svg\" height=\"24px\"viewBox=\"0 0 24 24\"\n",
              "     width=\"24px\">\n",
              "    <g>\n",
              "        <path d=\"M19 3H5c-1.1 0-2 .9-2 2v14c0 1.1.9 2 2 2h14c1.1 0 2-.9 2-2V5c0-1.1-.9-2-2-2zM9 17H7v-7h2v7zm4 0h-2V7h2v10zm4 0h-2v-4h2v4z\"/>\n",
              "    </g>\n",
              "</svg>\n",
              "      </button>\n",
              "    </div>\n",
              "\n",
              "<style>\n",
              "  .colab-df-quickchart {\n",
              "    background-color: #E8F0FE;\n",
              "    border: none;\n",
              "    border-radius: 50%;\n",
              "    cursor: pointer;\n",
              "    display: none;\n",
              "    fill: #1967D2;\n",
              "    height: 32px;\n",
              "    padding: 0 0 0 0;\n",
              "    width: 32px;\n",
              "  }\n",
              "\n",
              "  .colab-df-quickchart:hover {\n",
              "    background-color: #E2EBFA;\n",
              "    box-shadow: 0px 1px 2px rgba(60, 64, 67, 0.3), 0px 1px 3px 1px rgba(60, 64, 67, 0.15);\n",
              "    fill: #174EA6;\n",
              "  }\n",
              "\n",
              "  [theme=dark] .colab-df-quickchart {\n",
              "    background-color: #3B4455;\n",
              "    fill: #D2E3FC;\n",
              "  }\n",
              "\n",
              "  [theme=dark] .colab-df-quickchart:hover {\n",
              "    background-color: #434B5C;\n",
              "    box-shadow: 0px 1px 3px 1px rgba(0, 0, 0, 0.15);\n",
              "    filter: drop-shadow(0px 1px 2px rgba(0, 0, 0, 0.3));\n",
              "    fill: #FFFFFF;\n",
              "  }\n",
              "</style>\n",
              "\n",
              "    <script>\n",
              "      async function quickchart(key) {\n",
              "        const containerElement = document.querySelector('#' + key);\n",
              "        const charts = await google.colab.kernel.invokeFunction(\n",
              "            'suggestCharts', [key], {});\n",
              "      }\n",
              "    </script>\n",
              "\n",
              "      <script>\n",
              "\n",
              "function displayQuickchartButton(domScope) {\n",
              "  let quickchartButtonEl =\n",
              "    domScope.querySelector('#df-608d33d1-93cf-4e8d-a07a-b25866532fc8 button.colab-df-quickchart');\n",
              "  quickchartButtonEl.style.display =\n",
              "    google.colab.kernel.accessAllowed ? 'block' : 'none';\n",
              "}\n",
              "\n",
              "        displayQuickchartButton(document);\n",
              "      </script>\n",
              "      <style>\n",
              "    .colab-df-container {\n",
              "      display:flex;\n",
              "      flex-wrap:wrap;\n",
              "      gap: 12px;\n",
              "    }\n",
              "\n",
              "    .colab-df-convert {\n",
              "      background-color: #E8F0FE;\n",
              "      border: none;\n",
              "      border-radius: 50%;\n",
              "      cursor: pointer;\n",
              "      display: none;\n",
              "      fill: #1967D2;\n",
              "      height: 32px;\n",
              "      padding: 0 0 0 0;\n",
              "      width: 32px;\n",
              "    }\n",
              "\n",
              "    .colab-df-convert:hover {\n",
              "      background-color: #E2EBFA;\n",
              "      box-shadow: 0px 1px 2px rgba(60, 64, 67, 0.3), 0px 1px 3px 1px rgba(60, 64, 67, 0.15);\n",
              "      fill: #174EA6;\n",
              "    }\n",
              "\n",
              "    [theme=dark] .colab-df-convert {\n",
              "      background-color: #3B4455;\n",
              "      fill: #D2E3FC;\n",
              "    }\n",
              "\n",
              "    [theme=dark] .colab-df-convert:hover {\n",
              "      background-color: #434B5C;\n",
              "      box-shadow: 0px 1px 3px 1px rgba(0, 0, 0, 0.15);\n",
              "      filter: drop-shadow(0px 1px 2px rgba(0, 0, 0, 0.3));\n",
              "      fill: #FFFFFF;\n",
              "    }\n",
              "  </style>\n",
              "\n",
              "      <script>\n",
              "        const buttonEl =\n",
              "          document.querySelector('#df-f74426ce-1341-4333-9bf3-132aeefcfed9 button.colab-df-convert');\n",
              "        buttonEl.style.display =\n",
              "          google.colab.kernel.accessAllowed ? 'block' : 'none';\n",
              "\n",
              "        async function convertToInteractive(key) {\n",
              "          const element = document.querySelector('#df-f74426ce-1341-4333-9bf3-132aeefcfed9');\n",
              "          const dataTable =\n",
              "            await google.colab.kernel.invokeFunction('convertToInteractive',\n",
              "                                                     [key], {});\n",
              "          if (!dataTable) return;\n",
              "\n",
              "          const docLinkHtml = 'Like what you see? Visit the ' +\n",
              "            '<a target=\"_blank\" href=https://colab.research.google.com/notebooks/data_table.ipynb>data table notebook</a>'\n",
              "            + ' to learn more about interactive tables.';\n",
              "          element.innerHTML = '';\n",
              "          dataTable['output_type'] = 'display_data';\n",
              "          await google.colab.output.renderOutput(dataTable, element);\n",
              "          const docLink = document.createElement('div');\n",
              "          docLink.innerHTML = docLinkHtml;\n",
              "          element.appendChild(docLink);\n",
              "        }\n",
              "      </script>\n",
              "    </div>\n",
              "  </div>\n"
            ]
          },
          "metadata": {},
          "execution_count": 55
        }
      ]
    },
    {
      "cell_type": "code",
      "source": [
        "ax = sns.barplot(data=testing_n_df,\n",
        "                 x=\"n\",\n",
        "                 y=\"p_hat\",\n",
        "                 palette=\"Blues\")\n",
        "\n",
        "ax.set_ylabel(\"Empirical Type I Error Probability\")\n",
        "ax.set_xlabel(\"Sample size (n)\")\n",
        "\n",
        "x_coords = [p.get_x() + 0.5 * p.get_width() for p in ax.patches]\n",
        "y_coords = [p.get_height() for p in ax.patches]\n",
        "ax.errorbar(x=x_coords, y=y_coords, yerr=testing_n_df[\"se_hat\"], fmt=\"none\", c=\"k\")\n",
        "\n",
        "plt.show()\n"
      ],
      "metadata": {
        "id": "z324dyCtFbEX",
        "colab": {
          "base_uri": "https://localhost:8080/",
          "height": 449
        },
        "outputId": "47410d6b-02f1-4686-dd9d-529e03269a9d"
      },
      "execution_count": null,
      "outputs": [
        {
          "output_type": "display_data",
          "data": {
            "text/plain": [
              "<Figure size 640x480 with 1 Axes>"
            ],
            "image/png": "[encoded data removed]"
          },
          "metadata": {}
        }
      ]
    },
    {
      "cell_type": "markdown",
      "source": [
        "It seems that regardless of the sample size, the empirical type I error always tends to be close to 0.05 with the standard error of around 0.0225."
      ],
      "metadata": {
        "id": "3cWXkmx0KBlQ"
      }
    },
    {
      "cell_type": "markdown",
      "source": [
        "###3.3.3 Testing out different significance levels\n"
      ],
      "metadata": {
        "id": "Mk86HcJtKjoG"
      }
    },
    {
      "cell_type": "code",
      "source": [
        "different_alpha = [0.01, 0.025, 0.05, 0.1]\n",
        "\n",
        "testing_alpha_df = pd.DataFrame({\"alpha\" : [],\n",
        "                          \"p_hat\" : [],\n",
        "                          \"se_hat\" : []})\n",
        "\n",
        "for alpha in different_alpha:\n",
        "  p_hat, se_hat = get_type_I_error(m=10_000, n=30, alpha=alpha)\n",
        "  testing_alpha_df.loc[len(testing_alpha_df)] = {\"alpha\" : alpha,\n",
        "                                          \"p_hat\" : p_hat,\n",
        "                                          \"se_hat\" : se_hat}"
      ],
      "metadata": {
        "id": "xMgKuIZCKwQX"
      },
      "execution_count": null,
      "outputs": []
    },
    {
      "cell_type": "code",
      "source": [
        "testing_alpha_df"
      ],
      "metadata": {
        "colab": {
          "base_uri": "https://localhost:8080/",
          "height": 175
        },
        "id": "fpsasj4aLK8D",
        "outputId": "da33e94e-e920-4941-ff48-5d35442368de"
      },
      "execution_count": null,
      "outputs": [
        {
          "output_type": "execute_result",
          "data": {
            "text/plain": [
              "   alpha   p_hat    se_hat\n",
              "0  0.010  0.0109  0.001038\n",
              "1  0.025  0.0253  0.001570\n",
              "2  0.050  0.0501  0.002182\n",
              "3  0.100  0.0985  0.002980"
            ],
            "text/html": [
              "\n",
              "\n",
              "  <div id=\"df-0b3dedbe-3297-49b1-8007-86e0388bc827\">\n",
              "    <div class=\"colab-df-container\">\n",
              "      <div>\n",
              "<style scoped>\n",
              "    .dataframe tbody tr th:only-of-type {\n",
              "        vertical-align: middle;\n",
              "    }\n",
              "\n",
              "    .dataframe tbody tr th {\n",
              "        vertical-align: top;\n",
              "    }\n",
              "\n",
              "    .dataframe thead th {\n",
              "        text-align: right;\n",
              "    }\n",
              "</style>\n",
              "<table border=\"1\" class=\"dataframe\">\n",
              "  <thead>\n",
              "    <tr style=\"text-align: right;\">\n",
              "      <th></th>\n",
              "      <th>alpha</th>\n",
              "      <th>p_hat</th>\n",
              "      <th>se_hat</th>\n",
              "    </tr>\n",
              "  </thead>\n",
              "  <tbody>\n",
              "    <tr>\n",
              "      <th>0</th>\n",
              "      <td>0.010</td>\n",
              "      <td>0.0109</td>\n",
              "      <td>0.001038</td>\n",
              "    </tr>\n",
              "    <tr>\n",
              "      <th>1</th>\n",
              "      <td>0.025</td>\n",
              "      <td>0.0253</td>\n",
              "      <td>0.001570</td>\n",
              "    </tr>\n",
              "    <tr>\n",
              "      <th>2</th>\n",
              "      <td>0.050</td>\n",
              "      <td>0.0501</td>\n",
              "      <td>0.002182</td>\n",
              "    </tr>\n",
              "    <tr>\n",
              "      <th>3</th>\n",
              "      <td>0.100</td>\n",
              "      <td>0.0985</td>\n",
              "      <td>0.002980</td>\n",
              "    </tr>\n",
              "  </tbody>\n",
              "</table>\n",
              "</div>\n",
              "      <button class=\"colab-df-convert\" onclick=\"convertToInteractive('df-0b3dedbe-3297-49b1-8007-86e0388bc827')\"\n",
              "              title=\"Convert this dataframe to an interactive table.\"\n",
              "              style=\"display:none;\">\n",
              "\n",
              "  <svg xmlns=\"http://www.w3.org/2000/svg\" height=\"24px\"viewBox=\"0 0 24 24\"\n",
              "       width=\"24px\">\n",
              "    <path d=\"M0 0h24v24H0V0z\" fill=\"none\"/>\n",
              "    <path d=\"M18.56 5.44l.94 2.06.94-2.06 2.06-.94-2.06-.94-.94-2.06-.94 2.06-2.06.94zm-11 1L8.5 8.5l.94-2.06 2.06-.94-2.06-.94L8.5 2.5l-.94 2.06-2.06.94zm10 10l.94 2.06.94-2.06 2.06-.94-2.06-.94-.94-2.06-.94 2.06-2.06.94z\"/><path d=\"M17.41 7.96l-1.37-1.37c-.4-.4-.92-.59-1.43-.59-.52 0-1.04.2-1.43.59L10.3 9.45l-7.72 7.72c-.78.78-.78 2.05 0 2.83L4 21.41c.39.39.9.59 1.41.59.51 0 1.02-.2 1.41-.59l7.78-7.78 2.81-2.81c.8-.78.8-2.07 0-2.86zM5.41 20L4 18.59l7.72-7.72 1.47 1.35L5.41 20z\"/>\n",
              "  </svg>\n",
              "      </button>\n",
              "\n",
              "\n",
              "\n",
              "    <div id=\"df-1b976ea8-c506-4792-a739-63568e56c2c5\">\n",
              "      <button class=\"colab-df-quickchart\" onclick=\"quickchart('df-1b976ea8-c506-4792-a739-63568e56c2c5')\"\n",
              "              title=\"Suggest charts.\"\n",
              "              style=\"display:none;\">\n",
              "\n",
              "<svg xmlns=\"http://www.w3.org/2000/svg\" height=\"24px\"viewBox=\"0 0 24 24\"\n",
              "     width=\"24px\">\n",
              "    <g>\n",
              "        <path d=\"M19 3H5c-1.1 0-2 .9-2 2v14c0 1.1.9 2 2 2h14c1.1 0 2-.9 2-2V5c0-1.1-.9-2-2-2zM9 17H7v-7h2v7zm4 0h-2V7h2v10zm4 0h-2v-4h2v4z\"/>\n",
              "    </g>\n",
              "</svg>\n",
              "      </button>\n",
              "    </div>\n",
              "\n",
              "<style>\n",
              "  .colab-df-quickchart {\n",
              "    background-color: #E8F0FE;\n",
              "    border: none;\n",
              "    border-radius: 50%;\n",
              "    cursor: pointer;\n",
              "    display: none;\n",
              "    fill: #1967D2;\n",
              "    height: 32px;\n",
              "    padding: 0 0 0 0;\n",
              "    width: 32px;\n",
              "  }\n",
              "\n",
              "  .colab-df-quickchart:hover {\n",
              "    background-color: #E2EBFA;\n",
              "    box-shadow: 0px 1px 2px rgba(60, 64, 67, 0.3), 0px 1px 3px 1px rgba(60, 64, 67, 0.15);\n",
              "    fill: #174EA6;\n",
              "  }\n",
              "\n",
              "  [theme=dark] .colab-df-quickchart {\n",
              "    background-color: #3B4455;\n",
              "    fill: #D2E3FC;\n",
              "  }\n",
              "\n",
              "  [theme=dark] .colab-df-quickchart:hover {\n",
              "    background-color: #434B5C;\n",
              "    box-shadow: 0px 1px 3px 1px rgba(0, 0, 0, 0.15);\n",
              "    filter: drop-shadow(0px 1px 2px rgba(0, 0, 0, 0.3));\n",
              "    fill: #FFFFFF;\n",
              "  }\n",
              "</style>\n",
              "\n",
              "    <script>\n",
              "      async function quickchart(key) {\n",
              "        const containerElement = document.querySelector('#' + key);\n",
              "        const charts = await google.colab.kernel.invokeFunction(\n",
              "            'suggestCharts', [key], {});\n",
              "      }\n",
              "    </script>\n",
              "\n",
              "      <script>\n",
              "\n",
              "function displayQuickchartButton(domScope) {\n",
              "  let quickchartButtonEl =\n",
              "    domScope.querySelector('#df-1b976ea8-c506-4792-a739-63568e56c2c5 button.colab-df-quickchart');\n",
              "  quickchartButtonEl.style.display =\n",
              "    google.colab.kernel.accessAllowed ? 'block' : 'none';\n",
              "}\n",
              "\n",
              "        displayQuickchartButton(document);\n",
              "      </script>\n",
              "      <style>\n",
              "    .colab-df-container {\n",
              "      display:flex;\n",
              "      flex-wrap:wrap;\n",
              "      gap: 12px;\n",
              "    }\n",
              "\n",
              "    .colab-df-convert {\n",
              "      background-color: #E8F0FE;\n",
              "      border: none;\n",
              "      border-radius: 50%;\n",
              "      cursor: pointer;\n",
              "      display: none;\n",
              "      fill: #1967D2;\n",
              "      height: 32px;\n",
              "      padding: 0 0 0 0;\n",
              "      width: 32px;\n",
              "    }\n",
              "\n",
              "    .colab-df-convert:hover {\n",
              "      background-color: #E2EBFA;\n",
              "      box-shadow: 0px 1px 2px rgba(60, 64, 67, 0.3), 0px 1px 3px 1px rgba(60, 64, 67, 0.15);\n",
              "      fill: #174EA6;\n",
              "    }\n",
              "\n",
              "    [theme=dark] .colab-df-convert {\n",
              "      background-color: #3B4455;\n",
              "      fill: #D2E3FC;\n",
              "    }\n",
              "\n",
              "    [theme=dark] .colab-df-convert:hover {\n",
              "      background-color: #434B5C;\n",
              "      box-shadow: 0px 1px 3px 1px rgba(0, 0, 0, 0.15);\n",
              "      filter: drop-shadow(0px 1px 2px rgba(0, 0, 0, 0.3));\n",
              "      fill: #FFFFFF;\n",
              "    }\n",
              "  </style>\n",
              "\n",
              "      <script>\n",
              "        const buttonEl =\n",
              "          document.querySelector('#df-0b3dedbe-3297-49b1-8007-86e0388bc827 button.colab-df-convert');\n",
              "        buttonEl.style.display =\n",
              "          google.colab.kernel.accessAllowed ? 'block' : 'none';\n",
              "\n",
              "        async function convertToInteractive(key) {\n",
              "          const element = document.querySelector('#df-0b3dedbe-3297-49b1-8007-86e0388bc827');\n",
              "          const dataTable =\n",
              "            await google.colab.kernel.invokeFunction('convertToInteractive',\n",
              "                                                     [key], {});\n",
              "          if (!dataTable) return;\n",
              "\n",
              "          const docLinkHtml = 'Like what you see? Visit the ' +\n",
              "            '<a target=\"_blank\" href=https://colab.research.google.com/notebooks/data_table.ipynb>data table notebook</a>'\n",
              "            + ' to learn more about interactive tables.';\n",
              "          element.innerHTML = '';\n",
              "          dataTable['output_type'] = 'display_data';\n",
              "          await google.colab.output.renderOutput(dataTable, element);\n",
              "          const docLink = document.createElement('div');\n",
              "          docLink.innerHTML = docLinkHtml;\n",
              "          element.appendChild(docLink);\n",
              "        }\n",
              "      </script>\n",
              "    </div>\n",
              "  </div>\n"
            ]
          },
          "metadata": {},
          "execution_count": 58
        }
      ]
    },
    {
      "cell_type": "code",
      "source": [
        "ax = sns.barplot(data=testing_alpha_df,\n",
        "                 x=\"alpha\",\n",
        "                 y=\"p_hat\",\n",
        "                 palette=\"Greens\")\n",
        "\n",
        "ax.set_ylabel(\"Empirical Type I Error Probability\")\n",
        "ax.set_xlabel(\"Significance level (alpha)\")\n",
        "\n",
        "x_coords = [p.get_x() + 0.5 * p.get_width() for p in ax.patches]\n",
        "y_coords = [p.get_height() for p in ax.patches]\n",
        "ax.errorbar(x=x_coords, y=y_coords, yerr=testing_alpha_df[\"se_hat\"], fmt=\"none\", c=\"k\")\n",
        "\n",
        "plt.show()"
      ],
      "metadata": {
        "colab": {
          "base_uri": "https://localhost:8080/",
          "height": 449
        },
        "id": "VmqC1A5ZLRVE",
        "outputId": "98f8263c-9fd5-4d94-e81d-43df4b4d81b7"
      },
      "execution_count": null,
      "outputs": [
        {
          "output_type": "display_data",
          "data": {
            "text/plain": [
              "<Figure size 640x480 with 1 Axes>"
            ],
            "image/png": "[encoded data removed]"
          },
          "metadata": {}
        }
      ]
    },
    {
      "cell_type": "markdown",
      "source": [
        "The empirical type I error is strictly related to the set significance level and by definition these two values are approximately the same. Moreover, significance levels and standard errors seem to be correlated. Small significance level, means small standard error."
      ],
      "metadata": {
        "id": "i1f4qm7qL_dF"
      }
    },
    {
      "cell_type": "markdown",
      "source": [
        "###3.3.4 The means and standard deviation of samples."
      ],
      "metadata": {
        "id": "-3By13ZRM1FI"
      }
    },
    {
      "cell_type": "markdown",
      "source": [
        "As the $F$ statistic is defined by the ratio of variances, the actual values of variances and means should not influence the decision making when the null hypothesis is true. To illustrate that, the following simulations have been conducted:"
      ],
      "metadata": {
        "id": "gydf8kngNNi7"
      }
    },
    {
      "cell_type": "markdown",
      "source": [
        "Testing different means of the second samples. (The default for both sample means is 0)"
      ],
      "metadata": {
        "id": "erXX94QIOC8x"
      }
    },
    {
      "cell_type": "code",
      "source": [
        "different_mu2 = [-1000, -100, -10, -1, -0.5, -0.1, 0, 0.1, 0.5, 1, 10, 100, 1000]\n",
        "\n",
        "testing_mu2_df = pd.DataFrame({\"mu2\" : [],\n",
        "                          \"p_hat\" : [],\n",
        "                          \"se_hat\" : []})\n",
        "\n",
        "for mu2 in different_mu2:\n",
        "  p_hat, se_hat = get_type_I_error(m=10_000, n=30, alpha=0.05, mu2=mu2)\n",
        "  testing_mu2_df.loc[len(testing_mu2_df)] = {\"mu2\" : mu2,\n",
        "                                          \"p_hat\" : p_hat,\n",
        "                                          \"se_hat\" : se_hat}"
      ],
      "metadata": {
        "id": "ge9RkM-xNqHV"
      },
      "execution_count": null,
      "outputs": []
    },
    {
      "cell_type": "code",
      "source": [
        "different_var = [0.1, 0.5, 1, 10, 100, 1000]\n",
        "\n",
        "testing_var_df = pd.DataFrame({\"var\" : [],\n",
        "                          \"p_hat\" : [],\n",
        "                          \"se_hat\" : []})\n",
        "\n",
        "for var in different_var:\n",
        "  p_hat, se_hat = get_type_I_error(m=10_000, n=30, alpha=0.05, var=var)\n",
        "  testing_var_df.loc[len(testing_var_df)] = {\"var\" : var,\n",
        "                                             \"p_hat\" : p_hat,\n",
        "                                             \"se_hat\" : se_hat}"
      ],
      "metadata": {
        "id": "GpSGUUGlOPzG"
      },
      "execution_count": null,
      "outputs": []
    },
    {
      "cell_type": "code",
      "source": [
        "fig, axes = plt.subplots(1, 2, figsize=(13, 5))\n",
        "\n",
        "#type I empirical probability\n",
        "sns.barplot(data=testing_mu2_df,\n",
        "            x=\"mu2\",\n",
        "            y=\"p_hat\",\n",
        "            palette=\"Purples\",\n",
        "            ax=axes[0])\n",
        "\n",
        "axes[0].set_ylabel(\"Empirical Type I Error Probability\")\n",
        "axes[0].set_xlabel(\"Mean of the second sample\")\n",
        "\n",
        "x_coords = [p.get_x() + 0.5 * p.get_width() for p in axes[0].patches]\n",
        "y_coords = [p.get_height() for p in axes[0].patches]\n",
        "axes[0].errorbar(x=x_coords, y=y_coords, yerr=testing_mu2_df[\"se_hat\"], fmt=\"none\", c=\"k\")\n",
        "axes[0].tick_params(axis='x', labelrotation=30)\n",
        "\n",
        "#standard error\n",
        "sns.barplot(data=testing_var_df,\n",
        "            x=\"var\",\n",
        "            y=\"p_hat\",\n",
        "            palette=\"Blues\",\n",
        "            ax=axes[1])\n",
        "\n",
        "axes[1].set_ylabel(\"Empirical Type I Error Probability\")\n",
        "axes[1].set_xlabel(\"Variance\")\n",
        "\n",
        "x_coords = [p.get_x() + 0.5 * p.get_width() for p in axes[1].patches]\n",
        "y_coords = [p.get_height() for p in axes[1].patches]\n",
        "axes[1].errorbar(x=x_coords, y=y_coords, yerr=testing_var_df[\"se_hat\"], fmt=\"none\", c=\"k\")\n",
        "\n",
        "plt.tight_layout()\n",
        "plt.show()"
      ],
      "metadata": {
        "colab": {
          "base_uri": "https://localhost:8080/",
          "height": 443
        },
        "id": "KMb7idPIO_c8",
        "outputId": "04f6d1db-2ac3-4015-c4ae-e194cd76e8f8"
      },
      "execution_count": null,
      "outputs": [
        {
          "output_type": "display_data",
          "data": {
            "text/plain": [
              "<Figure size 1300x500 with 2 Axes>"
            ],
            "image/png": "[encoded data removed]"
          },
          "metadata": {}
        }
      ]
    },
    {
      "cell_type": "markdown",
      "source": [
        "As suspected, there is no explicit correlation between the empirical type I error probability and neither the mean of the second sample nor the standard deviation, when the null hypothesis is true."
      ],
      "metadata": {
        "id": "qaWPrBonS6cG"
      }
    },
    {
      "cell_type": "markdown",
      "source": [
        "# 4 Type II Error and Test Power"
      ],
      "metadata": {
        "id": "mp_7031HTzst"
      }
    },
    {
      "cell_type": "markdown",
      "source": [
        "##4.1 Type II Error and its Relation to Test Power"
      ],
      "metadata": {
        "id": "fYbBu0NSUP_6"
      }
    },
    {
      "cell_type": "markdown",
      "source": [
        "A type II error is made when an untrue null hypothesis is mistakenly not rejected. It is sometimes referred to as \"false negative\" conclusion.\n",
        "\n",
        "The probability of not making type II error is called the test power. The higher the test power, the smaller differences between null and alternative hypotheses may be detected as statistically significant. The smaller the significance level, the smaller the test power which means that it is impossible to minimize both type errors at the same time."
      ],
      "metadata": {
        "id": "jhJdeN36UQJo"
      }
    },
    {
      "cell_type": "markdown",
      "source": [
        "##4.2 Assesing the Test Power"
      ],
      "metadata": {
        "id": "cNeNQJMnW2zC"
      }
    },
    {
      "cell_type": "markdown",
      "source": [
        "To get an esimate of the power of $F$ test for equal variances, the following approach may be utilised:\n",
        "\n",
        "1. Randomly sample two normally distributed variables with differing deviations (i.e. unequal variances).\n",
        "2. Carry out the F test and save the p-value, e.g. in a list.\n",
        "3. Repeat steps 1. and 2. $m$ times, where $m$ is a large number of simulations.\n",
        "4. Compare all saved p-values with the significance level (e.g. $\\alpha$ = 5%) and calculate the power ($Pr$) as the fraction of the p-values smaller\n",
        "than $\\alpha$.\n",
        "\n",
        "$$Pr= \\frac{1}{m}\\sum_{j=1}^m I_j$$\n",
        "\n",
        "$$I_j=\\left\\{\n",
        "\\begin{array}{ccc}\n",
        "1&\\mbox{for}&p_j<\\alpha\\\\\n",
        "0&\\mbox{for}&p_j\\geq\\alpha\\\\\n",
        "\\end{array}\n",
        "\\right.$$\n",
        "\n",
        "5. Calculate the power standard error according to the following formula:\n",
        "\n",
        "$$SE(Pr) = \\sqrt{\\frac{Pr \\times (1-Pr)}{m}} $$\n",
        "\n",
        "\n",
        "6. Calculate the empirical probability of type II error.\n",
        "\n",
        "$$\\beta = 1 - Pr$$"
      ],
      "metadata": {
        "id": "wtcaO9S4Sj6-"
      }
    },
    {
      "cell_type": "markdown",
      "source": [
        "##4.3 `get_power()` function"
      ],
      "metadata": {
        "id": "HcYGeoFRXRx9"
      }
    },
    {
      "cell_type": "code",
      "source": [
        "def get_power(n:int=30, m:int=1000, alpha:float=0.05, mu1:float=0, mu2:float=0,\n",
        "              var1:float=1, var2:float=1.5, roundto:int=6):\n",
        "  \"\"\"\n",
        "  n - sample size\n",
        "  m - number of simulations\n",
        "  alpha - significance level\n",
        "  mu1 - true mean of the first sample\n",
        "  mu2 - true mean of the second sample\n",
        "  sd1 - true standard deviation of the first sample\n",
        "  sd2 - true standard deviation of the first sample\n",
        "  roundto - number of decimals numbers to round the returned values.\n",
        "\n",
        "  Return: A tuple of floats:\n",
        "  [0] - power of the test\n",
        "  [1] - standard error of the power\n",
        "  [2] - empirical type II error probability\n",
        "  \"\"\"\n",
        "  sd1 = np.sqrt(var1)\n",
        "  sd2 = np.sqrt(var2)\n",
        "  p_values = np.empty(m)\n",
        "\n",
        "  for index in range(m):\n",
        "    X1 = norm.rvs(size=n, loc=mu1, scale=sd1)\n",
        "    X2 = norm.rvs(size=n, loc=mu2, scale=sd2)\n",
        "    ftest_output = f_test(X1, X2, alpha=alpha, alternative=\"two-sided\")\n",
        "    p_values[index] = ftest_output.p\n",
        "\n",
        "  power = np.mean(p_values <= 0.05)\n",
        "  se_power = round(np.sqrt(power * (1-power)/m), roundto)\n",
        "  type_II_error = round((1 - power), roundto)\n",
        "\n",
        "  return round(power, roundto), se_power, type_II_error"
      ],
      "metadata": {
        "id": "Ha9EXiaDXPkX"
      },
      "execution_count": null,
      "outputs": []
    },
    {
      "cell_type": "code",
      "source": [
        "get_power(m=100, sd2=1.2)"
      ],
      "metadata": {
        "colab": {
          "base_uri": "https://localhost:8080/"
        },
        "id": "JnsBcfjwe4Cg",
        "outputId": "888ba38a-d1d4-4fa0-fbaf-95d20bbf311f"
      },
      "execution_count": null,
      "outputs": [
        {
          "output_type": "execute_result",
          "data": {
            "text/plain": [
              "(0.18, 0.038419, 0.82)"
            ]
          },
          "metadata": {},
          "execution_count": 17
        }
      ]
    },
    {
      "cell_type": "markdown",
      "source": [
        "###4.3.1 Testing out different numbers of simulations $m$."
      ],
      "metadata": {
        "id": "kRhyVTI1agsE"
      }
    },
    {
      "cell_type": "code",
      "source": [
        "different_m_II = [10, 100, 1000, 10_000, 100_000]\n",
        "\n",
        "testing_m_df_II = pd.DataFrame({\"m\" : [],\n",
        "                             \"power\" : [],\n",
        "                             \"se\" : [],\n",
        "                             \"beta\" : [],\n",
        "                             \"duration[s]\" : []})\n",
        "\n",
        "for m in different_m_II:\n",
        "  start = time.time()\n",
        "  power, se, beta = get_power(m=m)\n",
        "  end = time.time()\n",
        "  testing_m_df_II.loc[len(testing_m_df_II)] = {\"m\" : m,\n",
        "                                         \"power\" : power,\n",
        "                                         \"se\" : se,\n",
        "                                         \"beta\" : beta,\n",
        "                                         \"duration[s]\" : end-start}"
      ],
      "metadata": {
        "id": "S8k0fYorbZfc"
      },
      "execution_count": null,
      "outputs": []
    },
    {
      "cell_type": "code",
      "source": [
        "testing_m_df_II"
      ],
      "metadata": {
        "colab": {
          "base_uri": "https://localhost:8080/",
          "height": 206
        },
        "id": "ApG6lrJ5uMRg",
        "outputId": "4dc59cea-a62d-4482-de5b-db7bcbaf0fc7"
      },
      "execution_count": null,
      "outputs": [
        {
          "output_type": "execute_result",
          "data": {
            "text/plain": [
              "        m    power        se     beta  duration[s]\n",
              "0      10  0.60000  0.154919  0.40000     0.038412\n",
              "1     100  0.69000  0.046249  0.31000     0.292736\n",
              "2    1000  0.56700  0.015669  0.43300     1.783023\n",
              "3   10000  0.57150  0.004949  0.42850    14.180460\n",
              "4  100000  0.57597  0.001563  0.42403    94.159846"
            ],
            "text/html": [
              "\n",
              "\n",
              "  <div id=\"df-2ecc2661-00b2-4ad2-95b8-d9511716d010\">\n",
              "    <div class=\"colab-df-container\">\n",
              "      <div>\n",
              "<style scoped>\n",
              "    .dataframe tbody tr th:only-of-type {\n",
              "        vertical-align: middle;\n",
              "    }\n",
              "\n",
              "    .dataframe tbody tr th {\n",
              "        vertical-align: top;\n",
              "    }\n",
              "\n",
              "    .dataframe thead th {\n",
              "        text-align: right;\n",
              "    }\n",
              "</style>\n",
              "<table border=\"1\" class=\"dataframe\">\n",
              "  <thead>\n",
              "    <tr style=\"text-align: right;\">\n",
              "      <th></th>\n",
              "      <th>m</th>\n",
              "      <th>power</th>\n",
              "      <th>se</th>\n",
              "      <th>beta</th>\n",
              "      <th>duration[s]</th>\n",
              "    </tr>\n",
              "  </thead>\n",
              "  <tbody>\n",
              "    <tr>\n",
              "      <th>0</th>\n",
              "      <td>10</td>\n",
              "      <td>0.60000</td>\n",
              "      <td>0.154919</td>\n",
              "      <td>0.40000</td>\n",
              "      <td>0.038412</td>\n",
              "    </tr>\n",
              "    <tr>\n",
              "      <th>1</th>\n",
              "      <td>100</td>\n",
              "      <td>0.69000</td>\n",
              "      <td>0.046249</td>\n",
              "      <td>0.31000</td>\n",
              "      <td>0.292736</td>\n",
              "    </tr>\n",
              "    <tr>\n",
              "      <th>2</th>\n",
              "      <td>1000</td>\n",
              "      <td>0.56700</td>\n",
              "      <td>0.015669</td>\n",
              "      <td>0.43300</td>\n",
              "      <td>1.783023</td>\n",
              "    </tr>\n",
              "    <tr>\n",
              "      <th>3</th>\n",
              "      <td>10000</td>\n",
              "      <td>0.57150</td>\n",
              "      <td>0.004949</td>\n",
              "      <td>0.42850</td>\n",
              "      <td>14.180460</td>\n",
              "    </tr>\n",
              "    <tr>\n",
              "      <th>4</th>\n",
              "      <td>100000</td>\n",
              "      <td>0.57597</td>\n",
              "      <td>0.001563</td>\n",
              "      <td>0.42403</td>\n",
              "      <td>94.159846</td>\n",
              "    </tr>\n",
              "  </tbody>\n",
              "</table>\n",
              "</div>\n",
              "      <button class=\"colab-df-convert\" onclick=\"convertToInteractive('df-2ecc2661-00b2-4ad2-95b8-d9511716d010')\"\n",
              "              title=\"Convert this dataframe to an interactive table.\"\n",
              "              style=\"display:none;\">\n",
              "\n",
              "  <svg xmlns=\"http://www.w3.org/2000/svg\" height=\"24px\"viewBox=\"0 0 24 24\"\n",
              "       width=\"24px\">\n",
              "    <path d=\"M0 0h24v24H0V0z\" fill=\"none\"/>\n",
              "    <path d=\"M18.56 5.44l.94 2.06.94-2.06 2.06-.94-2.06-.94-.94-2.06-.94 2.06-2.06.94zm-11 1L8.5 8.5l.94-2.06 2.06-.94-2.06-.94L8.5 2.5l-.94 2.06-2.06.94zm10 10l.94 2.06.94-2.06 2.06-.94-2.06-.94-.94-2.06-.94 2.06-2.06.94z\"/><path d=\"M17.41 7.96l-1.37-1.37c-.4-.4-.92-.59-1.43-.59-.52 0-1.04.2-1.43.59L10.3 9.45l-7.72 7.72c-.78.78-.78 2.05 0 2.83L4 21.41c.39.39.9.59 1.41.59.51 0 1.02-.2 1.41-.59l7.78-7.78 2.81-2.81c.8-.78.8-2.07 0-2.86zM5.41 20L4 18.59l7.72-7.72 1.47 1.35L5.41 20z\"/>\n",
              "  </svg>\n",
              "      </button>\n",
              "\n",
              "\n",
              "\n",
              "    <div id=\"df-62c61509-2182-421a-baa5-8912ae21ac04\">\n",
              "      <button class=\"colab-df-quickchart\" onclick=\"quickchart('df-62c61509-2182-421a-baa5-8912ae21ac04')\"\n",
              "              title=\"Suggest charts.\"\n",
              "              style=\"display:none;\">\n",
              "\n",
              "<svg xmlns=\"http://www.w3.org/2000/svg\" height=\"24px\"viewBox=\"0 0 24 24\"\n",
              "     width=\"24px\">\n",
              "    <g>\n",
              "        <path d=\"M19 3H5c-1.1 0-2 .9-2 2v14c0 1.1.9 2 2 2h14c1.1 0 2-.9 2-2V5c0-1.1-.9-2-2-2zM9 17H7v-7h2v7zm4 0h-2V7h2v10zm4 0h-2v-4h2v4z\"/>\n",
              "    </g>\n",
              "</svg>\n",
              "      </button>\n",
              "    </div>\n",
              "\n",
              "<style>\n",
              "  .colab-df-quickchart {\n",
              "    background-color: #E8F0FE;\n",
              "    border: none;\n",
              "    border-radius: 50%;\n",
              "    cursor: pointer;\n",
              "    display: none;\n",
              "    fill: #1967D2;\n",
              "    height: 32px;\n",
              "    padding: 0 0 0 0;\n",
              "    width: 32px;\n",
              "  }\n",
              "\n",
              "  .colab-df-quickchart:hover {\n",
              "    background-color: #E2EBFA;\n",
              "    box-shadow: 0px 1px 2px rgba(60, 64, 67, 0.3), 0px 1px 3px 1px rgba(60, 64, 67, 0.15);\n",
              "    fill: #174EA6;\n",
              "  }\n",
              "\n",
              "  [theme=dark] .colab-df-quickchart {\n",
              "    background-color: #3B4455;\n",
              "    fill: #D2E3FC;\n",
              "  }\n",
              "\n",
              "  [theme=dark] .colab-df-quickchart:hover {\n",
              "    background-color: #434B5C;\n",
              "    box-shadow: 0px 1px 3px 1px rgba(0, 0, 0, 0.15);\n",
              "    filter: drop-shadow(0px 1px 2px rgba(0, 0, 0, 0.3));\n",
              "    fill: #FFFFFF;\n",
              "  }\n",
              "</style>\n",
              "\n",
              "    <script>\n",
              "      async function quickchart(key) {\n",
              "        const containerElement = document.querySelector('#' + key);\n",
              "        const charts = await google.colab.kernel.invokeFunction(\n",
              "            'suggestCharts', [key], {});\n",
              "      }\n",
              "    </script>\n",
              "\n",
              "      <script>\n",
              "\n",
              "function displayQuickchartButton(domScope) {\n",
              "  let quickchartButtonEl =\n",
              "    domScope.querySelector('#df-62c61509-2182-421a-baa5-8912ae21ac04 button.colab-df-quickchart');\n",
              "  quickchartButtonEl.style.display =\n",
              "    google.colab.kernel.accessAllowed ? 'block' : 'none';\n",
              "}\n",
              "\n",
              "        displayQuickchartButton(document);\n",
              "      </script>\n",
              "      <style>\n",
              "    .colab-df-container {\n",
              "      display:flex;\n",
              "      flex-wrap:wrap;\n",
              "      gap: 12px;\n",
              "    }\n",
              "\n",
              "    .colab-df-convert {\n",
              "      background-color: #E8F0FE;\n",
              "      border: none;\n",
              "      border-radius: 50%;\n",
              "      cursor: pointer;\n",
              "      display: none;\n",
              "      fill: #1967D2;\n",
              "      height: 32px;\n",
              "      padding: 0 0 0 0;\n",
              "      width: 32px;\n",
              "    }\n",
              "\n",
              "    .colab-df-convert:hover {\n",
              "      background-color: #E2EBFA;\n",
              "      box-shadow: 0px 1px 2px rgba(60, 64, 67, 0.3), 0px 1px 3px 1px rgba(60, 64, 67, 0.15);\n",
              "      fill: #174EA6;\n",
              "    }\n",
              "\n",
              "    [theme=dark] .colab-df-convert {\n",
              "      background-color: #3B4455;\n",
              "      fill: #D2E3FC;\n",
              "    }\n",
              "\n",
              "    [theme=dark] .colab-df-convert:hover {\n",
              "      background-color: #434B5C;\n",
              "      box-shadow: 0px 1px 3px 1px rgba(0, 0, 0, 0.15);\n",
              "      filter: drop-shadow(0px 1px 2px rgba(0, 0, 0, 0.3));\n",
              "      fill: #FFFFFF;\n",
              "    }\n",
              "  </style>\n",
              "\n",
              "      <script>\n",
              "        const buttonEl =\n",
              "          document.querySelector('#df-2ecc2661-00b2-4ad2-95b8-d9511716d010 button.colab-df-convert');\n",
              "        buttonEl.style.display =\n",
              "          google.colab.kernel.accessAllowed ? 'block' : 'none';\n",
              "\n",
              "        async function convertToInteractive(key) {\n",
              "          const element = document.querySelector('#df-2ecc2661-00b2-4ad2-95b8-d9511716d010');\n",
              "          const dataTable =\n",
              "            await google.colab.kernel.invokeFunction('convertToInteractive',\n",
              "                                                     [key], {});\n",
              "          if (!dataTable) return;\n",
              "\n",
              "          const docLinkHtml = 'Like what you see? Visit the ' +\n",
              "            '<a target=\"_blank\" href=https://colab.research.google.com/notebooks/data_table.ipynb>data table notebook</a>'\n",
              "            + ' to learn more about interactive tables.';\n",
              "          element.innerHTML = '';\n",
              "          dataTable['output_type'] = 'display_data';\n",
              "          await google.colab.output.renderOutput(dataTable, element);\n",
              "          const docLink = document.createElement('div');\n",
              "          docLink.innerHTML = docLinkHtml;\n",
              "          element.appendChild(docLink);\n",
              "        }\n",
              "      </script>\n",
              "    </div>\n",
              "  </div>\n"
            ]
          },
          "metadata": {},
          "execution_count": 34
        }
      ]
    },
    {
      "cell_type": "code",
      "source": [
        "fig, axes = plt.subplots(1, 2, figsize=(12, 5))\n",
        "\n",
        "#power\n",
        "sns.barplot(data=testing_m_df_II,\n",
        "            x=\"m\",\n",
        "            y=\"power\",\n",
        "            palette=\"Blues\",\n",
        "            ax=axes[0])\n",
        "axes[0].set_title(\"Empirical Power\")\n",
        "axes[0].set_ylabel('')\n",
        "axes[0].set_xlabel(\"Number of Simulations (m)\")\n",
        "\n",
        "x_coords = [p.get_x() + 0.5 * p.get_width() for p in axes[0].patches]\n",
        "y_coords = [p.get_height() for p in axes[0].patches]\n",
        "axes[0].errorbar(x=x_coords, y=y_coords, yerr=testing_m_df_II[\"se\"], fmt=\"none\", c=\"k\")\n",
        "\n",
        "#duration\n",
        "sns.barplot(data=testing_m_df_II,\n",
        "            x=\"m\",\n",
        "            y=\"duration[s]\",\n",
        "            palette=\"Greens\",\n",
        "            ax=axes[1])\n",
        "axes[1].set_title(\"Calculations Duration [s]\")\n",
        "axes[1].set_ylabel('')\n",
        "axes[1].set_xlabel(\"Number of Simulations (m)\")\n",
        "\n",
        "plt.tight_layout()\n",
        "plt.show()"
      ],
      "metadata": {
        "id": "dU3OOa4_d-PR",
        "colab": {
          "base_uri": "https://localhost:8080/",
          "height": 479
        },
        "outputId": "5e062714-2ee8-4925-a8b1-8722a3849add"
      },
      "execution_count": null,
      "outputs": [
        {
          "output_type": "display_data",
          "data": {
            "text/plain": [
              "<Figure size 1200x500 with 2 Axes>"
            ],
            "image/png": "[encoded data removed]"
          },
          "metadata": {}
        }
      ]
    },
    {
      "cell_type": "markdown",
      "source": [
        "Similarly to type I error, the number of simulations ($m$) stabilizes the results when at 1000 or more. Every time $m$ rises, the standard error of empirical power falls. The power itself stays at relatively the same level of about 57-58% (which is not sufficient). The default ratio of varinaces is 1.5 here."
      ],
      "metadata": {
        "id": "l3W7NLzChCc-"
      }
    },
    {
      "cell_type": "markdown",
      "source": [
        "### 4.3.2 Testing out different sample sizes"
      ],
      "metadata": {
        "id": "RsuYyTDHuxoF"
      }
    },
    {
      "cell_type": "code",
      "source": [
        "different_n_II = [5, 10, 30, 50, 100, 500, 1000]\n",
        "\n",
        "testing_n_df_II = pd.DataFrame({\"n\" : [],\n",
        "                                \"power\" : [],\n",
        "                                \"se\" : [],\n",
        "                                \"beta\" : []})\n",
        "\n",
        "for n in different_n_II:\n",
        "  power, se, beta = get_power(m=10_000, n=n)\n",
        "  testing_n_df_II.loc[len(testing_n_df_II)] = {\"n\" : n,\n",
        "                                               \"power\" : power,\n",
        "                                               \"se\" : se,\n",
        "                                               \"beta\" : beta}"
      ],
      "metadata": {
        "id": "Vdjfw8_yw9qp"
      },
      "execution_count": null,
      "outputs": []
    },
    {
      "cell_type": "code",
      "source": [
        "testing_n_df_II"
      ],
      "metadata": {
        "colab": {
          "base_uri": "https://localhost:8080/",
          "height": 269
        },
        "id": "ROKnpNm2yUBu",
        "outputId": "48c2af3c-2857-4fb4-9126-47834ed0c38e"
      },
      "execution_count": null,
      "outputs": [
        {
          "output_type": "execute_result",
          "data": {
            "text/plain": [
              "      n   power        se    beta\n",
              "0     5  0.0997  0.002996  0.9003\n",
              "1    10  0.2020  0.004015  0.7980\n",
              "2    30  0.5709  0.004949  0.4291\n",
              "3    50  0.8016  0.003988  0.1984\n",
              "4   100  0.9790  0.001434  0.0210\n",
              "5   500  1.0000  0.000000  0.0000\n",
              "6  1000  1.0000  0.000000  0.0000"
            ],
            "text/html": [
              "\n",
              "\n",
              "  <div id=\"df-f2dc5835-05be-4c56-82bc-20b508a07762\">\n",
              "    <div class=\"colab-df-container\">\n",
              "      <div>\n",
              "<style scoped>\n",
              "    .dataframe tbody tr th:only-of-type {\n",
              "        vertical-align: middle;\n",
              "    }\n",
              "\n",
              "    .dataframe tbody tr th {\n",
              "        vertical-align: top;\n",
              "    }\n",
              "\n",
              "    .dataframe thead th {\n",
              "        text-align: right;\n",
              "    }\n",
              "</style>\n",
              "<table border=\"1\" class=\"dataframe\">\n",
              "  <thead>\n",
              "    <tr style=\"text-align: right;\">\n",
              "      <th></th>\n",
              "      <th>n</th>\n",
              "      <th>power</th>\n",
              "      <th>se</th>\n",
              "      <th>beta</th>\n",
              "    </tr>\n",
              "  </thead>\n",
              "  <tbody>\n",
              "    <tr>\n",
              "      <th>0</th>\n",
              "      <td>5</td>\n",
              "      <td>0.0997</td>\n",
              "      <td>0.002996</td>\n",
              "      <td>0.9003</td>\n",
              "    </tr>\n",
              "    <tr>\n",
              "      <th>1</th>\n",
              "      <td>10</td>\n",
              "      <td>0.2020</td>\n",
              "      <td>0.004015</td>\n",
              "      <td>0.7980</td>\n",
              "    </tr>\n",
              "    <tr>\n",
              "      <th>2</th>\n",
              "      <td>30</td>\n",
              "      <td>0.5709</td>\n",
              "      <td>0.004949</td>\n",
              "      <td>0.4291</td>\n",
              "    </tr>\n",
              "    <tr>\n",
              "      <th>3</th>\n",
              "      <td>50</td>\n",
              "      <td>0.8016</td>\n",
              "      <td>0.003988</td>\n",
              "      <td>0.1984</td>\n",
              "    </tr>\n",
              "    <tr>\n",
              "      <th>4</th>\n",
              "      <td>100</td>\n",
              "      <td>0.9790</td>\n",
              "      <td>0.001434</td>\n",
              "      <td>0.0210</td>\n",
              "    </tr>\n",
              "    <tr>\n",
              "      <th>5</th>\n",
              "      <td>500</td>\n",
              "      <td>1.0000</td>\n",
              "      <td>0.000000</td>\n",
              "      <td>0.0000</td>\n",
              "    </tr>\n",
              "    <tr>\n",
              "      <th>6</th>\n",
              "      <td>1000</td>\n",
              "      <td>1.0000</td>\n",
              "      <td>0.000000</td>\n",
              "      <td>0.0000</td>\n",
              "    </tr>\n",
              "  </tbody>\n",
              "</table>\n",
              "</div>\n",
              "      <button class=\"colab-df-convert\" onclick=\"convertToInteractive('df-f2dc5835-05be-4c56-82bc-20b508a07762')\"\n",
              "              title=\"Convert this dataframe to an interactive table.\"\n",
              "              style=\"display:none;\">\n",
              "\n",
              "  <svg xmlns=\"http://www.w3.org/2000/svg\" height=\"24px\"viewBox=\"0 0 24 24\"\n",
              "       width=\"24px\">\n",
              "    <path d=\"M0 0h24v24H0V0z\" fill=\"none\"/>\n",
              "    <path d=\"M18.56 5.44l.94 2.06.94-2.06 2.06-.94-2.06-.94-.94-2.06-.94 2.06-2.06.94zm-11 1L8.5 8.5l.94-2.06 2.06-.94-2.06-.94L8.5 2.5l-.94 2.06-2.06.94zm10 10l.94 2.06.94-2.06 2.06-.94-2.06-.94-.94-2.06-.94 2.06-2.06.94z\"/><path d=\"M17.41 7.96l-1.37-1.37c-.4-.4-.92-.59-1.43-.59-.52 0-1.04.2-1.43.59L10.3 9.45l-7.72 7.72c-.78.78-.78 2.05 0 2.83L4 21.41c.39.39.9.59 1.41.59.51 0 1.02-.2 1.41-.59l7.78-7.78 2.81-2.81c.8-.78.8-2.07 0-2.86zM5.41 20L4 18.59l7.72-7.72 1.47 1.35L5.41 20z\"/>\n",
              "  </svg>\n",
              "      </button>\n",
              "\n",
              "\n",
              "\n",
              "    <div id=\"df-8b48cccb-4023-4201-a57a-4353ee211381\">\n",
              "      <button class=\"colab-df-quickchart\" onclick=\"quickchart('df-8b48cccb-4023-4201-a57a-4353ee211381')\"\n",
              "              title=\"Suggest charts.\"\n",
              "              style=\"display:none;\">\n",
              "\n",
              "<svg xmlns=\"http://www.w3.org/2000/svg\" height=\"24px\"viewBox=\"0 0 24 24\"\n",
              "     width=\"24px\">\n",
              "    <g>\n",
              "        <path d=\"M19 3H5c-1.1 0-2 .9-2 2v14c0 1.1.9 2 2 2h14c1.1 0 2-.9 2-2V5c0-1.1-.9-2-2-2zM9 17H7v-7h2v7zm4 0h-2V7h2v10zm4 0h-2v-4h2v4z\"/>\n",
              "    </g>\n",
              "</svg>\n",
              "      </button>\n",
              "    </div>\n",
              "\n",
              "<style>\n",
              "  .colab-df-quickchart {\n",
              "    background-color: #E8F0FE;\n",
              "    border: none;\n",
              "    border-radius: 50%;\n",
              "    cursor: pointer;\n",
              "    display: none;\n",
              "    fill: #1967D2;\n",
              "    height: 32px;\n",
              "    padding: 0 0 0 0;\n",
              "    width: 32px;\n",
              "  }\n",
              "\n",
              "  .colab-df-quickchart:hover {\n",
              "    background-color: #E2EBFA;\n",
              "    box-shadow: 0px 1px 2px rgba(60, 64, 67, 0.3), 0px 1px 3px 1px rgba(60, 64, 67, 0.15);\n",
              "    fill: #174EA6;\n",
              "  }\n",
              "\n",
              "  [theme=dark] .colab-df-quickchart {\n",
              "    background-color: #3B4455;\n",
              "    fill: #D2E3FC;\n",
              "  }\n",
              "\n",
              "  [theme=dark] .colab-df-quickchart:hover {\n",
              "    background-color: #434B5C;\n",
              "    box-shadow: 0px 1px 3px 1px rgba(0, 0, 0, 0.15);\n",
              "    filter: drop-shadow(0px 1px 2px rgba(0, 0, 0, 0.3));\n",
              "    fill: #FFFFFF;\n",
              "  }\n",
              "</style>\n",
              "\n",
              "    <script>\n",
              "      async function quickchart(key) {\n",
              "        const containerElement = document.querySelector('#' + key);\n",
              "        const charts = await google.colab.kernel.invokeFunction(\n",
              "            'suggestCharts', [key], {});\n",
              "      }\n",
              "    </script>\n",
              "\n",
              "      <script>\n",
              "\n",
              "function displayQuickchartButton(domScope) {\n",
              "  let quickchartButtonEl =\n",
              "    domScope.querySelector('#df-8b48cccb-4023-4201-a57a-4353ee211381 button.colab-df-quickchart');\n",
              "  quickchartButtonEl.style.display =\n",
              "    google.colab.kernel.accessAllowed ? 'block' : 'none';\n",
              "}\n",
              "\n",
              "        displayQuickchartButton(document);\n",
              "      </script>\n",
              "      <style>\n",
              "    .colab-df-container {\n",
              "      display:flex;\n",
              "      flex-wrap:wrap;\n",
              "      gap: 12px;\n",
              "    }\n",
              "\n",
              "    .colab-df-convert {\n",
              "      background-color: #E8F0FE;\n",
              "      border: none;\n",
              "      border-radius: 50%;\n",
              "      cursor: pointer;\n",
              "      display: none;\n",
              "      fill: #1967D2;\n",
              "      height: 32px;\n",
              "      padding: 0 0 0 0;\n",
              "      width: 32px;\n",
              "    }\n",
              "\n",
              "    .colab-df-convert:hover {\n",
              "      background-color: #E2EBFA;\n",
              "      box-shadow: 0px 1px 2px rgba(60, 64, 67, 0.3), 0px 1px 3px 1px rgba(60, 64, 67, 0.15);\n",
              "      fill: #174EA6;\n",
              "    }\n",
              "\n",
              "    [theme=dark] .colab-df-convert {\n",
              "      background-color: #3B4455;\n",
              "      fill: #D2E3FC;\n",
              "    }\n",
              "\n",
              "    [theme=dark] .colab-df-convert:hover {\n",
              "      background-color: #434B5C;\n",
              "      box-shadow: 0px 1px 3px 1px rgba(0, 0, 0, 0.15);\n",
              "      filter: drop-shadow(0px 1px 2px rgba(0, 0, 0, 0.3));\n",
              "      fill: #FFFFFF;\n",
              "    }\n",
              "  </style>\n",
              "\n",
              "      <script>\n",
              "        const buttonEl =\n",
              "          document.querySelector('#df-f2dc5835-05be-4c56-82bc-20b508a07762 button.colab-df-convert');\n",
              "        buttonEl.style.display =\n",
              "          google.colab.kernel.accessAllowed ? 'block' : 'none';\n",
              "\n",
              "        async function convertToInteractive(key) {\n",
              "          const element = document.querySelector('#df-f2dc5835-05be-4c56-82bc-20b508a07762');\n",
              "          const dataTable =\n",
              "            await google.colab.kernel.invokeFunction('convertToInteractive',\n",
              "                                                     [key], {});\n",
              "          if (!dataTable) return;\n",
              "\n",
              "          const docLinkHtml = 'Like what you see? Visit the ' +\n",
              "            '<a target=\"_blank\" href=https://colab.research.google.com/notebooks/data_table.ipynb>data table notebook</a>'\n",
              "            + ' to learn more about interactive tables.';\n",
              "          element.innerHTML = '';\n",
              "          dataTable['output_type'] = 'display_data';\n",
              "          await google.colab.output.renderOutput(dataTable, element);\n",
              "          const docLink = document.createElement('div');\n",
              "          docLink.innerHTML = docLinkHtml;\n",
              "          element.appendChild(docLink);\n",
              "        }\n",
              "      </script>\n",
              "    </div>\n",
              "  </div>\n"
            ]
          },
          "metadata": {},
          "execution_count": 41
        }
      ]
    },
    {
      "cell_type": "code",
      "source": [
        "ax = sns.barplot(data=testing_n_df_II,\n",
        "                 x=\"n\",\n",
        "                 y=\"power\",\n",
        "                 palette=\"Blues\")\n",
        "\n",
        "ax.set_ylabel(\"Empirical Power\")\n",
        "ax.set_xlabel(\"Sample size (n)\")\n",
        "\n",
        "x_coords = [p.get_x() + 0.5 * p.get_width() for p in ax.patches]\n",
        "y_coords = [p.get_height() for p in ax.patches]\n",
        "ax.errorbar(x=x_coords, y=y_coords, yerr=testing_n_df_II[\"se\"], fmt=\"none\", c=\"k\")\n",
        "\n",
        "plt.show()"
      ],
      "metadata": {
        "colab": {
          "base_uri": "https://localhost:8080/",
          "height": 449
        },
        "id": "kUtehEGIxpb4",
        "outputId": "c2f04747-a004-45b5-8232-3ca8ed9a5d9d"
      },
      "execution_count": null,
      "outputs": [
        {
          "output_type": "display_data",
          "data": {
            "text/plain": [
              "<Figure size 640x480 with 1 Axes>"
            ],
            "image/png": "[encoded data removed]"
          },
          "metadata": {}
        }
      ]
    },
    {
      "cell_type": "markdown",
      "source": [
        "As suspected the size of the samples positively affects the power of the F test, being appr. 98% at the size of 100. Which I will use in the following analysis."
      ],
      "metadata": {
        "id": "gNYVnL1uhy8_"
      }
    },
    {
      "cell_type": "markdown",
      "source": [
        "###4.3.3 Testing out different significance levels"
      ],
      "metadata": {
        "id": "ctzi86e1u5-_"
      }
    },
    {
      "cell_type": "code",
      "source": [
        "different_alpha = [0.01, 0.025, 0.05, 0.1]\n",
        "\n",
        "testing_alpha_df_II = pd.DataFrame({\"alpha\" : [],\n",
        "                                \"power\" : [],\n",
        "                                \"se\" : [],\n",
        "                                \"beta\" : []})\n",
        "\n",
        "for alpha in different_alpha:\n",
        "  power, se, beta = get_power(m=10_000, n=100, alpha=alpha)\n",
        "  testing_alpha_df_II.loc[len(testing_alpha_df_II)] = {\"alpha\" : alpha,\n",
        "                                               \"power\" : power,\n",
        "                                               \"se\" : se,\n",
        "                                               \"beta\" : beta}"
      ],
      "metadata": {
        "id": "8wOFmTlJyvcg"
      },
      "execution_count": null,
      "outputs": []
    },
    {
      "cell_type": "code",
      "source": [
        "testing_alpha_df_II"
      ],
      "metadata": {
        "colab": {
          "base_uri": "https://localhost:8080/",
          "height": 175
        },
        "id": "YPcb9dWZzj0T",
        "outputId": "8ea2a382-98a5-4200-a307-f0ac220d6fc2"
      },
      "execution_count": null,
      "outputs": [
        {
          "output_type": "execute_result",
          "data": {
            "text/plain": [
              "   alpha   power        se    beta\n",
              "0  0.010  0.9790  0.001434  0.0210\n",
              "1  0.025  0.9821  0.001326  0.0179\n",
              "2  0.050  0.9793  0.001424  0.0207\n",
              "3  0.100  0.9815  0.001348  0.0185"
            ],
            "text/html": [
              "\n",
              "\n",
              "  <div id=\"df-871cb2fd-6f18-4e10-b1d2-473b5dbc5a39\">\n",
              "    <div class=\"colab-df-container\">\n",
              "      <div>\n",
              "<style scoped>\n",
              "    .dataframe tbody tr th:only-of-type {\n",
              "        vertical-align: middle;\n",
              "    }\n",
              "\n",
              "    .dataframe tbody tr th {\n",
              "        vertical-align: top;\n",
              "    }\n",
              "\n",
              "    .dataframe thead th {\n",
              "        text-align: right;\n",
              "    }\n",
              "</style>\n",
              "<table border=\"1\" class=\"dataframe\">\n",
              "  <thead>\n",
              "    <tr style=\"text-align: right;\">\n",
              "      <th></th>\n",
              "      <th>alpha</th>\n",
              "      <th>power</th>\n",
              "      <th>se</th>\n",
              "      <th>beta</th>\n",
              "    </tr>\n",
              "  </thead>\n",
              "  <tbody>\n",
              "    <tr>\n",
              "      <th>0</th>\n",
              "      <td>0.010</td>\n",
              "      <td>0.9790</td>\n",
              "      <td>0.001434</td>\n",
              "      <td>0.0210</td>\n",
              "    </tr>\n",
              "    <tr>\n",
              "      <th>1</th>\n",
              "      <td>0.025</td>\n",
              "      <td>0.9821</td>\n",
              "      <td>0.001326</td>\n",
              "      <td>0.0179</td>\n",
              "    </tr>\n",
              "    <tr>\n",
              "      <th>2</th>\n",
              "      <td>0.050</td>\n",
              "      <td>0.9793</td>\n",
              "      <td>0.001424</td>\n",
              "      <td>0.0207</td>\n",
              "    </tr>\n",
              "    <tr>\n",
              "      <th>3</th>\n",
              "      <td>0.100</td>\n",
              "      <td>0.9815</td>\n",
              "      <td>0.001348</td>\n",
              "      <td>0.0185</td>\n",
              "    </tr>\n",
              "  </tbody>\n",
              "</table>\n",
              "</div>\n",
              "      <button class=\"colab-df-convert\" onclick=\"convertToInteractive('df-871cb2fd-6f18-4e10-b1d2-473b5dbc5a39')\"\n",
              "              title=\"Convert this dataframe to an interactive table.\"\n",
              "              style=\"display:none;\">\n",
              "\n",
              "  <svg xmlns=\"http://www.w3.org/2000/svg\" height=\"24px\"viewBox=\"0 0 24 24\"\n",
              "       width=\"24px\">\n",
              "    <path d=\"M0 0h24v24H0V0z\" fill=\"none\"/>\n",
              "    <path d=\"M18.56 5.44l.94 2.06.94-2.06 2.06-.94-2.06-.94-.94-2.06-.94 2.06-2.06.94zm-11 1L8.5 8.5l.94-2.06 2.06-.94-2.06-.94L8.5 2.5l-.94 2.06-2.06.94zm10 10l.94 2.06.94-2.06 2.06-.94-2.06-.94-.94-2.06-.94 2.06-2.06.94z\"/><path d=\"M17.41 7.96l-1.37-1.37c-.4-.4-.92-.59-1.43-.59-.52 0-1.04.2-1.43.59L10.3 9.45l-7.72 7.72c-.78.78-.78 2.05 0 2.83L4 21.41c.39.39.9.59 1.41.59.51 0 1.02-.2 1.41-.59l7.78-7.78 2.81-2.81c.8-.78.8-2.07 0-2.86zM5.41 20L4 18.59l7.72-7.72 1.47 1.35L5.41 20z\"/>\n",
              "  </svg>\n",
              "      </button>\n",
              "\n",
              "\n",
              "\n",
              "    <div id=\"df-528d5322-8eeb-45c6-9676-20f7086da8bf\">\n",
              "      <button class=\"colab-df-quickchart\" onclick=\"quickchart('df-528d5322-8eeb-45c6-9676-20f7086da8bf')\"\n",
              "              title=\"Suggest charts.\"\n",
              "              style=\"display:none;\">\n",
              "\n",
              "<svg xmlns=\"http://www.w3.org/2000/svg\" height=\"24px\"viewBox=\"0 0 24 24\"\n",
              "     width=\"24px\">\n",
              "    <g>\n",
              "        <path d=\"M19 3H5c-1.1 0-2 .9-2 2v14c0 1.1.9 2 2 2h14c1.1 0 2-.9 2-2V5c0-1.1-.9-2-2-2zM9 17H7v-7h2v7zm4 0h-2V7h2v10zm4 0h-2v-4h2v4z\"/>\n",
              "    </g>\n",
              "</svg>\n",
              "      </button>\n",
              "    </div>\n",
              "\n",
              "<style>\n",
              "  .colab-df-quickchart {\n",
              "    background-color: #E8F0FE;\n",
              "    border: none;\n",
              "    border-radius: 50%;\n",
              "    cursor: pointer;\n",
              "    display: none;\n",
              "    fill: #1967D2;\n",
              "    height: 32px;\n",
              "    padding: 0 0 0 0;\n",
              "    width: 32px;\n",
              "  }\n",
              "\n",
              "  .colab-df-quickchart:hover {\n",
              "    background-color: #E2EBFA;\n",
              "    box-shadow: 0px 1px 2px rgba(60, 64, 67, 0.3), 0px 1px 3px 1px rgba(60, 64, 67, 0.15);\n",
              "    fill: #174EA6;\n",
              "  }\n",
              "\n",
              "  [theme=dark] .colab-df-quickchart {\n",
              "    background-color: #3B4455;\n",
              "    fill: #D2E3FC;\n",
              "  }\n",
              "\n",
              "  [theme=dark] .colab-df-quickchart:hover {\n",
              "    background-color: #434B5C;\n",
              "    box-shadow: 0px 1px 3px 1px rgba(0, 0, 0, 0.15);\n",
              "    filter: drop-shadow(0px 1px 2px rgba(0, 0, 0, 0.3));\n",
              "    fill: #FFFFFF;\n",
              "  }\n",
              "</style>\n",
              "\n",
              "    <script>\n",
              "      async function quickchart(key) {\n",
              "        const containerElement = document.querySelector('#' + key);\n",
              "        const charts = await google.colab.kernel.invokeFunction(\n",
              "            'suggestCharts', [key], {});\n",
              "      }\n",
              "    </script>\n",
              "\n",
              "      <script>\n",
              "\n",
              "function displayQuickchartButton(domScope) {\n",
              "  let quickchartButtonEl =\n",
              "    domScope.querySelector('#df-528d5322-8eeb-45c6-9676-20f7086da8bf button.colab-df-quickchart');\n",
              "  quickchartButtonEl.style.display =\n",
              "    google.colab.kernel.accessAllowed ? 'block' : 'none';\n",
              "}\n",
              "\n",
              "        displayQuickchartButton(document);\n",
              "      </script>\n",
              "      <style>\n",
              "    .colab-df-container {\n",
              "      display:flex;\n",
              "      flex-wrap:wrap;\n",
              "      gap: 12px;\n",
              "    }\n",
              "\n",
              "    .colab-df-convert {\n",
              "      background-color: #E8F0FE;\n",
              "      border: none;\n",
              "      border-radius: 50%;\n",
              "      cursor: pointer;\n",
              "      display: none;\n",
              "      fill: #1967D2;\n",
              "      height: 32px;\n",
              "      padding: 0 0 0 0;\n",
              "      width: 32px;\n",
              "    }\n",
              "\n",
              "    .colab-df-convert:hover {\n",
              "      background-color: #E2EBFA;\n",
              "      box-shadow: 0px 1px 2px rgba(60, 64, 67, 0.3), 0px 1px 3px 1px rgba(60, 64, 67, 0.15);\n",
              "      fill: #174EA6;\n",
              "    }\n",
              "\n",
              "    [theme=dark] .colab-df-convert {\n",
              "      background-color: #3B4455;\n",
              "      fill: #D2E3FC;\n",
              "    }\n",
              "\n",
              "    [theme=dark] .colab-df-convert:hover {\n",
              "      background-color: #434B5C;\n",
              "      box-shadow: 0px 1px 3px 1px rgba(0, 0, 0, 0.15);\n",
              "      filter: drop-shadow(0px 1px 2px rgba(0, 0, 0, 0.3));\n",
              "      fill: #FFFFFF;\n",
              "    }\n",
              "  </style>\n",
              "\n",
              "      <script>\n",
              "        const buttonEl =\n",
              "          document.querySelector('#df-871cb2fd-6f18-4e10-b1d2-473b5dbc5a39 button.colab-df-convert');\n",
              "        buttonEl.style.display =\n",
              "          google.colab.kernel.accessAllowed ? 'block' : 'none';\n",
              "\n",
              "        async function convertToInteractive(key) {\n",
              "          const element = document.querySelector('#df-871cb2fd-6f18-4e10-b1d2-473b5dbc5a39');\n",
              "          const dataTable =\n",
              "            await google.colab.kernel.invokeFunction('convertToInteractive',\n",
              "                                                     [key], {});\n",
              "          if (!dataTable) return;\n",
              "\n",
              "          const docLinkHtml = 'Like what you see? Visit the ' +\n",
              "            '<a target=\"_blank\" href=https://colab.research.google.com/notebooks/data_table.ipynb>data table notebook</a>'\n",
              "            + ' to learn more about interactive tables.';\n",
              "          element.innerHTML = '';\n",
              "          dataTable['output_type'] = 'display_data';\n",
              "          await google.colab.output.renderOutput(dataTable, element);\n",
              "          const docLink = document.createElement('div');\n",
              "          docLink.innerHTML = docLinkHtml;\n",
              "          element.appendChild(docLink);\n",
              "        }\n",
              "      </script>\n",
              "    </div>\n",
              "  </div>\n"
            ]
          },
          "metadata": {},
          "execution_count": 46
        }
      ]
    },
    {
      "cell_type": "code",
      "source": [
        "ax = sns.barplot(data=testing_alpha_df_II,\n",
        "                 x=\"alpha\",\n",
        "                 y=\"power\",\n",
        "                 palette=\"Blues\")\n",
        "\n",
        "ax.set_ylabel(\"Empirical Power\")\n",
        "ax.set_xlabel(\"Significance Level\")\n",
        "\n",
        "x_coords = [p.get_x() + 0.5 * p.get_width() for p in ax.patches]\n",
        "y_coords = [p.get_height() for p in ax.patches]\n",
        "ax.errorbar(x=x_coords, y=y_coords, yerr=testing_alpha_df_II[\"se\"], fmt=\"none\", c=\"k\")\n",
        "\n",
        "plt.show()"
      ],
      "metadata": {
        "colab": {
          "base_uri": "https://localhost:8080/",
          "height": 449
        },
        "id": "ZB2jqJyQz0gV",
        "outputId": "5cd73805-5fcf-4f33-ef44-8aae2a97d53b"
      },
      "execution_count": null,
      "outputs": [
        {
          "output_type": "display_data",
          "data": {
            "text/plain": [
              "<Figure size 640x480 with 1 Axes>"
            ],
            "image/png": "[encoded data removed]"
          },
          "metadata": {}
        }
      ]
    },
    {
      "cell_type": "markdown",
      "source": [
        "The power of a test is unrelated to the significance level and as such we get no variation of power when considering different sig. levels."
      ],
      "metadata": {
        "id": "pz8s5wlKiK5c"
      }
    },
    {
      "cell_type": "markdown",
      "source": [
        "###4.3.4 Testing out several variance differences"
      ],
      "metadata": {
        "id": "m38hQqRXu-Hf"
      }
    },
    {
      "cell_type": "code",
      "source": [
        "var1 = 1\n",
        "different_alt_var = np.linspace(start=0.1*var1, stop=2.5*var1, num=100)\n",
        "\n",
        "testing_alt_var = pd.DataFrame({\n",
        "    \"power\":[],\n",
        "    \"se\" : [],\n",
        "    \"beta\" : [],\n",
        "    \"var_ratio\" : []\n",
        "})\n",
        "\n",
        "for alt_var in different_alt_var:\n",
        "  power, se, beta = get_power(m=1000, n=100, alpha=0.05, var1=1, var2=alt_var)\n",
        "  testing_alt_var.loc[len(testing_alt_var)] = {\n",
        "                                               \"power\" : power,\n",
        "                                               \"se\" : se,\n",
        "                                               \"beta\" : beta,\n",
        "                                               \"var_ratio\":alt_var}"
      ],
      "metadata": {
        "id": "Z3Hc0Mx30dNm"
      },
      "execution_count": null,
      "outputs": []
    },
    {
      "cell_type": "code",
      "source": [
        "ax = sns.lineplot(data=testing_alt_var,\n",
        "                 x=\"var_ratio\",\n",
        "                 y=\"power\")\n",
        "\n",
        "ax.set_ylabel(\"Empirical Power\")\n",
        "ax.set_xlabel(\"Varinace Ratio\")\n",
        "\n",
        "ax.errorbar(x=testing_alt_var[\"var_ratio\"],\n",
        "            y=testing_alt_var[\"power\"],\n",
        "            yerr=testing_alt_var[\"se\"],\n",
        "            fmt=\"none\", c=\"k\")\n",
        "\n",
        "plt.show()"
      ],
      "metadata": {
        "colab": {
          "base_uri": "https://localhost:8080/",
          "height": 449
        },
        "id": "awqF1zv-5KIP",
        "outputId": "c868d26e-0b05-409e-e63c-6286c45c065b"
      },
      "execution_count": null,
      "outputs": [
        {
          "output_type": "display_data",
          "data": {
            "text/plain": [
              "<Figure size 640x480 with 1 Axes>"
            ],
            "image/png": "[encoded data removed]"
          },
          "metadata": {}
        }
      ]
    }
  ]
}